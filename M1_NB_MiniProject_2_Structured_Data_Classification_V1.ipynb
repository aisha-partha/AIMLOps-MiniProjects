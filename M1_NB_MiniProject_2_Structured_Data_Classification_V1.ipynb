{
  "cells": [
    {
      "cell_type": "markdown",
      "metadata": {
        "id": "view-in-github",
        "colab_type": "text"
      },
      "source": [
        "<a href=\"https://colab.research.google.com/github/aisha-partha/AIMLOps-MiniProjects/blob/mp_2/M1_NB_MiniProject_2_Structured_Data_Classification_V1.ipynb\" target=\"_parent\"><img src=\"https://colab.research.google.com/assets/colab-badge.svg\" alt=\"Open In Colab\"/></a>"
      ]
    },
    {
      "cell_type": "markdown",
      "metadata": {
        "id": "hTplQkOMsKhd"
      },
      "source": [
        "# Advanced Certification Programme in AI and MLOps\n",
        "## A programme by IISc and TalentSprint\n",
        "### Mini-Project Notebook: Structured Data Classification"
      ]
    },
    {
      "cell_type": "markdown",
      "metadata": {
        "id": "SZlu0P9jj_ei"
      },
      "source": [
        "## Problem Statement"
      ]
    },
    {
      "cell_type": "markdown",
      "metadata": {
        "id": "3xaJosu2kfGE"
      },
      "source": [
        "To predict whether a patient has a heart disease."
      ]
    },
    {
      "cell_type": "markdown",
      "metadata": {
        "id": "8N0iS4ipU_XM"
      },
      "source": [
        "## Learning Objectives"
      ]
    },
    {
      "cell_type": "markdown",
      "metadata": {
        "id": "K8OXq65pVDDS"
      },
      "source": [
        "At the end of the experiment, you will be able to\n",
        "\n",
        "* Understand the Cleveland Clinic Foundation Heart Disease dataset\n",
        "* Pre-process this dataset using Keras layers: IntegerLookup, StringLookup & Normalization\n",
        "* Understand and use Keras concatenate layer\n",
        "* Build a neural network model and architecture using Keras functional api\n",
        "* Predict an unseen data"
      ]
    },
    {
      "cell_type": "markdown",
      "source": [
        "## Introduction\n",
        "\n",
        "This example demonstrates how to do structured data classification, starting from a raw\n",
        "CSV file. Our data includes both numerical and categorical features. We will use Keras\n",
        "preprocessing layers to normalize the numerical features and vectorize the categorical\n",
        "ones.\n",
        "\n",
        "Note that this example should be run with TensorFlow 2.5 or higher."
      ],
      "metadata": {
        "id": "5zBPlw87J9cF"
      }
    },
    {
      "cell_type": "markdown",
      "metadata": {
        "id": "bScMHnbIaxsQ"
      },
      "source": [
        "## Dataset\n",
        "\n",
        "[Our dataset](https://archive.ics.uci.edu/ml/datasets/heart+Disease) is provided by the\n",
        "Cleveland Clinic Foundation for Heart Disease.\n",
        "It's a CSV file with 303 rows. Each row contains information about a patient (a\n",
        "**sample**), and each column describes an attribute of the patient (a **feature**). We\n",
        "use the features to predict whether a patient has a heart disease (**binary\n",
        "classification**).\n",
        "\n",
        "Here's the description of each feature:\n",
        "<br><br>\n",
        "\n",
        "Column| Description| Feature Type\n",
        "------------|--------------------|----------------------\n",
        "Age | Age in years | Numerical\n",
        "Sex | (1 = male; 0 = female) | Categorical\n",
        "CP | Chest pain type (0, 1, 2, 3, 4) | Categorical\n",
        "Trestbpd | Resting blood pressure (in mm Hg on admission) | Numerical\n",
        "Chol | Serum cholesterol in mg/dl | Numerical\n",
        "FBS | fasting blood sugar in 120 mg/dl (1 = true; 0 = false) | Categorical\n",
        "RestECG | Resting electrocardiogram results (0, 1, 2) | Categorical\n",
        "Thalach | Maximum heart rate achieved | Numerical\n",
        "Exang | Exercise induced angina (1 = yes; 0 = no) | Categorical\n",
        "Oldpeak | ST depression induced by exercise relative to rest | Numerical\n",
        "Slope | Slope of the peak exercise ST segment | Numerical\n",
        "CA | Number of major vessels (0-3) colored by fluoroscopy | Both numerical & categorical\n",
        "Thal | 3 = normal; 6 = fixed defect; 7 = reversible defect | Categorical\n",
        "Target | Diagnosis of heart disease (1 = true; 0 = false) | Target\n",
        "\n",
        "<br><br>"
      ]
    },
    {
      "cell_type": "code",
      "execution_count": 1,
      "metadata": {
        "id": "812a816f",
        "colab": {
          "base_uri": "https://localhost:8080/"
        },
        "outputId": "524ea86e-5752-42d4-e45b-5b7d900f5813"
      },
      "outputs": [
        {
          "output_type": "stream",
          "name": "stdout",
          "text": [
            "Data Downloaded Successfuly!!\n"
          ]
        }
      ],
      "source": [
        "#@title Download the data\n",
        "!wget -qq https://cdn.iisc.talentsprint.com/AIandMLOps/Datasets/heart.csv\n",
        "print(\"Data Downloaded Successfuly!!\")"
      ]
    },
    {
      "cell_type": "markdown",
      "metadata": {
        "id": "operating-latter"
      },
      "source": [
        "## Grading = 10 Points"
      ]
    },
    {
      "cell_type": "markdown",
      "metadata": {
        "id": "1TmXyc2bRFvM"
      },
      "source": [
        "### Import Required Packages"
      ]
    },
    {
      "cell_type": "code",
      "execution_count": 2,
      "metadata": {
        "id": "MK4EbY6xaxsR"
      },
      "outputs": [],
      "source": [
        "import tensorflow as tf\n",
        "import numpy as np\n",
        "import pandas as pd\n",
        "from tensorflow import keras\n",
        "from tensorflow.keras import layers\n",
        "from tensorflow.keras.layers import IntegerLookup     # Used in Feature processing\n",
        "from tensorflow.keras.layers import Normalization     # Used in Feature processing\n",
        "from tensorflow.keras.layers import StringLookup      # Used in Feature processing\n",
        "\n",
        "\n",
        "import matplotlib.pyplot as plt"
      ]
    },
    {
      "cell_type": "markdown",
      "source": [
        "# Part A"
      ],
      "metadata": {
        "id": "-tBU6ZMlW0My"
      }
    },
    {
      "cell_type": "markdown",
      "metadata": {
        "id": "zWmEGCqDaxsS"
      },
      "source": [
        "## Load the data and create batches [2 Marks]"
      ]
    },
    {
      "cell_type": "markdown",
      "source": [
        "### Load data into a Pandas dataframe\n",
        "\n",
        "Hint:: pd.read_csv"
      ],
      "metadata": {
        "id": "V7IEMgJ8jnGr"
      }
    },
    {
      "cell_type": "code",
      "execution_count": 3,
      "metadata": {
        "id": "6N7lrEsZaxsT"
      },
      "outputs": [],
      "source": [
        "file_url = \"/content/heart.csv\"\n",
        "## YOUR CODE HERE\n",
        "raw_df = pd.read_csv(file_url)"
      ]
    },
    {
      "cell_type": "markdown",
      "metadata": {
        "id": "M-f50aCJaxsT"
      },
      "source": [
        "Check the shape of the dataset:"
      ]
    },
    {
      "cell_type": "code",
      "execution_count": 4,
      "metadata": {
        "id": "nrNUOPFVaxsT",
        "colab": {
          "base_uri": "https://localhost:8080/"
        },
        "outputId": "ad94c9a2-c9a2-45c0-e538-3e8fb8d405c9"
      },
      "outputs": [
        {
          "output_type": "execute_result",
          "data": {
            "text/plain": [
              "(303, 14)"
            ]
          },
          "metadata": {},
          "execution_count": 4
        }
      ],
      "source": [
        "## YOUR CODE HERE\n",
        "raw_df.shape"
      ]
    },
    {
      "cell_type": "markdown",
      "metadata": {
        "id": "ptTMb_dsaxsU"
      },
      "source": [
        "Check the preview of a few samples:\n",
        "\n",
        "Hint:: head()"
      ]
    },
    {
      "cell_type": "code",
      "execution_count": 5,
      "metadata": {
        "id": "zHjlz0HhaxsU",
        "colab": {
          "base_uri": "https://localhost:8080/",
          "height": 206
        },
        "outputId": "bc0e65e3-907d-4fb9-9cee-15c9fdd8f3d5"
      },
      "outputs": [
        {
          "output_type": "execute_result",
          "data": {
            "text/plain": [
              "   age  sex  cp  trestbps  chol  fbs  restecg  thalach  exang  oldpeak  slope  \\\n",
              "0   63    1   1       145   233    1        2      150      0      2.3      3   \n",
              "1   67    1   4       160   286    0        2      108      1      1.5      2   \n",
              "2   67    1   4       120   229    0        2      129      1      2.6      2   \n",
              "3   37    1   3       130   250    0        0      187      0      3.5      3   \n",
              "4   41    0   2       130   204    0        2      172      0      1.4      1   \n",
              "\n",
              "   ca        thal  target  \n",
              "0   0       fixed       0  \n",
              "1   3      normal       1  \n",
              "2   2  reversible       0  \n",
              "3   0      normal       0  \n",
              "4   0      normal       0  "
            ],
            "text/html": [
              "\n",
              "  <div id=\"df-3e9fb089-962b-4a7f-b21c-98b29ea8a032\" class=\"colab-df-container\">\n",
              "    <div>\n",
              "<style scoped>\n",
              "    .dataframe tbody tr th:only-of-type {\n",
              "        vertical-align: middle;\n",
              "    }\n",
              "\n",
              "    .dataframe tbody tr th {\n",
              "        vertical-align: top;\n",
              "    }\n",
              "\n",
              "    .dataframe thead th {\n",
              "        text-align: right;\n",
              "    }\n",
              "</style>\n",
              "<table border=\"1\" class=\"dataframe\">\n",
              "  <thead>\n",
              "    <tr style=\"text-align: right;\">\n",
              "      <th></th>\n",
              "      <th>age</th>\n",
              "      <th>sex</th>\n",
              "      <th>cp</th>\n",
              "      <th>trestbps</th>\n",
              "      <th>chol</th>\n",
              "      <th>fbs</th>\n",
              "      <th>restecg</th>\n",
              "      <th>thalach</th>\n",
              "      <th>exang</th>\n",
              "      <th>oldpeak</th>\n",
              "      <th>slope</th>\n",
              "      <th>ca</th>\n",
              "      <th>thal</th>\n",
              "      <th>target</th>\n",
              "    </tr>\n",
              "  </thead>\n",
              "  <tbody>\n",
              "    <tr>\n",
              "      <th>0</th>\n",
              "      <td>63</td>\n",
              "      <td>1</td>\n",
              "      <td>1</td>\n",
              "      <td>145</td>\n",
              "      <td>233</td>\n",
              "      <td>1</td>\n",
              "      <td>2</td>\n",
              "      <td>150</td>\n",
              "      <td>0</td>\n",
              "      <td>2.3</td>\n",
              "      <td>3</td>\n",
              "      <td>0</td>\n",
              "      <td>fixed</td>\n",
              "      <td>0</td>\n",
              "    </tr>\n",
              "    <tr>\n",
              "      <th>1</th>\n",
              "      <td>67</td>\n",
              "      <td>1</td>\n",
              "      <td>4</td>\n",
              "      <td>160</td>\n",
              "      <td>286</td>\n",
              "      <td>0</td>\n",
              "      <td>2</td>\n",
              "      <td>108</td>\n",
              "      <td>1</td>\n",
              "      <td>1.5</td>\n",
              "      <td>2</td>\n",
              "      <td>3</td>\n",
              "      <td>normal</td>\n",
              "      <td>1</td>\n",
              "    </tr>\n",
              "    <tr>\n",
              "      <th>2</th>\n",
              "      <td>67</td>\n",
              "      <td>1</td>\n",
              "      <td>4</td>\n",
              "      <td>120</td>\n",
              "      <td>229</td>\n",
              "      <td>0</td>\n",
              "      <td>2</td>\n",
              "      <td>129</td>\n",
              "      <td>1</td>\n",
              "      <td>2.6</td>\n",
              "      <td>2</td>\n",
              "      <td>2</td>\n",
              "      <td>reversible</td>\n",
              "      <td>0</td>\n",
              "    </tr>\n",
              "    <tr>\n",
              "      <th>3</th>\n",
              "      <td>37</td>\n",
              "      <td>1</td>\n",
              "      <td>3</td>\n",
              "      <td>130</td>\n",
              "      <td>250</td>\n",
              "      <td>0</td>\n",
              "      <td>0</td>\n",
              "      <td>187</td>\n",
              "      <td>0</td>\n",
              "      <td>3.5</td>\n",
              "      <td>3</td>\n",
              "      <td>0</td>\n",
              "      <td>normal</td>\n",
              "      <td>0</td>\n",
              "    </tr>\n",
              "    <tr>\n",
              "      <th>4</th>\n",
              "      <td>41</td>\n",
              "      <td>0</td>\n",
              "      <td>2</td>\n",
              "      <td>130</td>\n",
              "      <td>204</td>\n",
              "      <td>0</td>\n",
              "      <td>2</td>\n",
              "      <td>172</td>\n",
              "      <td>0</td>\n",
              "      <td>1.4</td>\n",
              "      <td>1</td>\n",
              "      <td>0</td>\n",
              "      <td>normal</td>\n",
              "      <td>0</td>\n",
              "    </tr>\n",
              "  </tbody>\n",
              "</table>\n",
              "</div>\n",
              "    <div class=\"colab-df-buttons\">\n",
              "\n",
              "  <div class=\"colab-df-container\">\n",
              "    <button class=\"colab-df-convert\" onclick=\"convertToInteractive('df-3e9fb089-962b-4a7f-b21c-98b29ea8a032')\"\n",
              "            title=\"Convert this dataframe to an interactive table.\"\n",
              "            style=\"display:none;\">\n",
              "\n",
              "  <svg xmlns=\"http://www.w3.org/2000/svg\" height=\"24px\" viewBox=\"0 -960 960 960\">\n",
              "    <path d=\"M120-120v-720h720v720H120Zm60-500h600v-160H180v160Zm220 220h160v-160H400v160Zm0 220h160v-160H400v160ZM180-400h160v-160H180v160Zm440 0h160v-160H620v160ZM180-180h160v-160H180v160Zm440 0h160v-160H620v160Z\"/>\n",
              "  </svg>\n",
              "    </button>\n",
              "\n",
              "  <style>\n",
              "    .colab-df-container {\n",
              "      display:flex;\n",
              "      gap: 12px;\n",
              "    }\n",
              "\n",
              "    .colab-df-convert {\n",
              "      background-color: #E8F0FE;\n",
              "      border: none;\n",
              "      border-radius: 50%;\n",
              "      cursor: pointer;\n",
              "      display: none;\n",
              "      fill: #1967D2;\n",
              "      height: 32px;\n",
              "      padding: 0 0 0 0;\n",
              "      width: 32px;\n",
              "    }\n",
              "\n",
              "    .colab-df-convert:hover {\n",
              "      background-color: #E2EBFA;\n",
              "      box-shadow: 0px 1px 2px rgba(60, 64, 67, 0.3), 0px 1px 3px 1px rgba(60, 64, 67, 0.15);\n",
              "      fill: #174EA6;\n",
              "    }\n",
              "\n",
              "    .colab-df-buttons div {\n",
              "      margin-bottom: 4px;\n",
              "    }\n",
              "\n",
              "    [theme=dark] .colab-df-convert {\n",
              "      background-color: #3B4455;\n",
              "      fill: #D2E3FC;\n",
              "    }\n",
              "\n",
              "    [theme=dark] .colab-df-convert:hover {\n",
              "      background-color: #434B5C;\n",
              "      box-shadow: 0px 1px 3px 1px rgba(0, 0, 0, 0.15);\n",
              "      filter: drop-shadow(0px 1px 2px rgba(0, 0, 0, 0.3));\n",
              "      fill: #FFFFFF;\n",
              "    }\n",
              "  </style>\n",
              "\n",
              "    <script>\n",
              "      const buttonEl =\n",
              "        document.querySelector('#df-3e9fb089-962b-4a7f-b21c-98b29ea8a032 button.colab-df-convert');\n",
              "      buttonEl.style.display =\n",
              "        google.colab.kernel.accessAllowed ? 'block' : 'none';\n",
              "\n",
              "      async function convertToInteractive(key) {\n",
              "        const element = document.querySelector('#df-3e9fb089-962b-4a7f-b21c-98b29ea8a032');\n",
              "        const dataTable =\n",
              "          await google.colab.kernel.invokeFunction('convertToInteractive',\n",
              "                                                    [key], {});\n",
              "        if (!dataTable) return;\n",
              "\n",
              "        const docLinkHtml = 'Like what you see? Visit the ' +\n",
              "          '<a target=\"_blank\" href=https://colab.research.google.com/notebooks/data_table.ipynb>data table notebook</a>'\n",
              "          + ' to learn more about interactive tables.';\n",
              "        element.innerHTML = '';\n",
              "        dataTable['output_type'] = 'display_data';\n",
              "        await google.colab.output.renderOutput(dataTable, element);\n",
              "        const docLink = document.createElement('div');\n",
              "        docLink.innerHTML = docLinkHtml;\n",
              "        element.appendChild(docLink);\n",
              "      }\n",
              "    </script>\n",
              "  </div>\n",
              "\n",
              "\n",
              "<div id=\"df-48e6fd4f-3e03-4b6a-afd5-0e529bcef492\">\n",
              "  <button class=\"colab-df-quickchart\" onclick=\"quickchart('df-48e6fd4f-3e03-4b6a-afd5-0e529bcef492')\"\n",
              "            title=\"Suggest charts\"\n",
              "            style=\"display:none;\">\n",
              "\n",
              "<svg xmlns=\"http://www.w3.org/2000/svg\" height=\"24px\"viewBox=\"0 0 24 24\"\n",
              "     width=\"24px\">\n",
              "    <g>\n",
              "        <path d=\"M19 3H5c-1.1 0-2 .9-2 2v14c0 1.1.9 2 2 2h14c1.1 0 2-.9 2-2V5c0-1.1-.9-2-2-2zM9 17H7v-7h2v7zm4 0h-2V7h2v10zm4 0h-2v-4h2v4z\"/>\n",
              "    </g>\n",
              "</svg>\n",
              "  </button>\n",
              "\n",
              "<style>\n",
              "  .colab-df-quickchart {\n",
              "      --bg-color: #E8F0FE;\n",
              "      --fill-color: #1967D2;\n",
              "      --hover-bg-color: #E2EBFA;\n",
              "      --hover-fill-color: #174EA6;\n",
              "      --disabled-fill-color: #AAA;\n",
              "      --disabled-bg-color: #DDD;\n",
              "  }\n",
              "\n",
              "  [theme=dark] .colab-df-quickchart {\n",
              "      --bg-color: #3B4455;\n",
              "      --fill-color: #D2E3FC;\n",
              "      --hover-bg-color: #434B5C;\n",
              "      --hover-fill-color: #FFFFFF;\n",
              "      --disabled-bg-color: #3B4455;\n",
              "      --disabled-fill-color: #666;\n",
              "  }\n",
              "\n",
              "  .colab-df-quickchart {\n",
              "    background-color: var(--bg-color);\n",
              "    border: none;\n",
              "    border-radius: 50%;\n",
              "    cursor: pointer;\n",
              "    display: none;\n",
              "    fill: var(--fill-color);\n",
              "    height: 32px;\n",
              "    padding: 0;\n",
              "    width: 32px;\n",
              "  }\n",
              "\n",
              "  .colab-df-quickchart:hover {\n",
              "    background-color: var(--hover-bg-color);\n",
              "    box-shadow: 0 1px 2px rgba(60, 64, 67, 0.3), 0 1px 3px 1px rgba(60, 64, 67, 0.15);\n",
              "    fill: var(--button-hover-fill-color);\n",
              "  }\n",
              "\n",
              "  .colab-df-quickchart-complete:disabled,\n",
              "  .colab-df-quickchart-complete:disabled:hover {\n",
              "    background-color: var(--disabled-bg-color);\n",
              "    fill: var(--disabled-fill-color);\n",
              "    box-shadow: none;\n",
              "  }\n",
              "\n",
              "  .colab-df-spinner {\n",
              "    border: 2px solid var(--fill-color);\n",
              "    border-color: transparent;\n",
              "    border-bottom-color: var(--fill-color);\n",
              "    animation:\n",
              "      spin 1s steps(1) infinite;\n",
              "  }\n",
              "\n",
              "  @keyframes spin {\n",
              "    0% {\n",
              "      border-color: transparent;\n",
              "      border-bottom-color: var(--fill-color);\n",
              "      border-left-color: var(--fill-color);\n",
              "    }\n",
              "    20% {\n",
              "      border-color: transparent;\n",
              "      border-left-color: var(--fill-color);\n",
              "      border-top-color: var(--fill-color);\n",
              "    }\n",
              "    30% {\n",
              "      border-color: transparent;\n",
              "      border-left-color: var(--fill-color);\n",
              "      border-top-color: var(--fill-color);\n",
              "      border-right-color: var(--fill-color);\n",
              "    }\n",
              "    40% {\n",
              "      border-color: transparent;\n",
              "      border-right-color: var(--fill-color);\n",
              "      border-top-color: var(--fill-color);\n",
              "    }\n",
              "    60% {\n",
              "      border-color: transparent;\n",
              "      border-right-color: var(--fill-color);\n",
              "    }\n",
              "    80% {\n",
              "      border-color: transparent;\n",
              "      border-right-color: var(--fill-color);\n",
              "      border-bottom-color: var(--fill-color);\n",
              "    }\n",
              "    90% {\n",
              "      border-color: transparent;\n",
              "      border-bottom-color: var(--fill-color);\n",
              "    }\n",
              "  }\n",
              "</style>\n",
              "\n",
              "  <script>\n",
              "    async function quickchart(key) {\n",
              "      const quickchartButtonEl =\n",
              "        document.querySelector('#' + key + ' button');\n",
              "      quickchartButtonEl.disabled = true;  // To prevent multiple clicks.\n",
              "      quickchartButtonEl.classList.add('colab-df-spinner');\n",
              "      try {\n",
              "        const charts = await google.colab.kernel.invokeFunction(\n",
              "            'suggestCharts', [key], {});\n",
              "      } catch (error) {\n",
              "        console.error('Error during call to suggestCharts:', error);\n",
              "      }\n",
              "      quickchartButtonEl.classList.remove('colab-df-spinner');\n",
              "      quickchartButtonEl.classList.add('colab-df-quickchart-complete');\n",
              "    }\n",
              "    (() => {\n",
              "      let quickchartButtonEl =\n",
              "        document.querySelector('#df-48e6fd4f-3e03-4b6a-afd5-0e529bcef492 button');\n",
              "      quickchartButtonEl.style.display =\n",
              "        google.colab.kernel.accessAllowed ? 'block' : 'none';\n",
              "    })();\n",
              "  </script>\n",
              "</div>\n",
              "\n",
              "    </div>\n",
              "  </div>\n"
            ],
            "application/vnd.google.colaboratory.intrinsic+json": {
              "type": "dataframe",
              "variable_name": "raw_df",
              "summary": "{\n  \"name\": \"raw_df\",\n  \"rows\": 303,\n  \"fields\": [\n    {\n      \"column\": \"age\",\n      \"properties\": {\n        \"dtype\": \"number\",\n        \"std\": 9,\n        \"min\": 29,\n        \"max\": 77,\n        \"num_unique_values\": 41,\n        \"samples\": [\n          61,\n          64,\n          44\n        ],\n        \"semantic_type\": \"\",\n        \"description\": \"\"\n      }\n    },\n    {\n      \"column\": \"sex\",\n      \"properties\": {\n        \"dtype\": \"number\",\n        \"std\": 0,\n        \"min\": 0,\n        \"max\": 1,\n        \"num_unique_values\": 2,\n        \"samples\": [\n          0,\n          1\n        ],\n        \"semantic_type\": \"\",\n        \"description\": \"\"\n      }\n    },\n    {\n      \"column\": \"cp\",\n      \"properties\": {\n        \"dtype\": \"number\",\n        \"std\": 1,\n        \"min\": 0,\n        \"max\": 4,\n        \"num_unique_values\": 5,\n        \"samples\": [\n          4,\n          0\n        ],\n        \"semantic_type\": \"\",\n        \"description\": \"\"\n      }\n    },\n    {\n      \"column\": \"trestbps\",\n      \"properties\": {\n        \"dtype\": \"number\",\n        \"std\": 17,\n        \"min\": 94,\n        \"max\": 200,\n        \"num_unique_values\": 50,\n        \"samples\": [\n          104,\n          192\n        ],\n        \"semantic_type\": \"\",\n        \"description\": \"\"\n      }\n    },\n    {\n      \"column\": \"chol\",\n      \"properties\": {\n        \"dtype\": \"number\",\n        \"std\": 52,\n        \"min\": 126,\n        \"max\": 564,\n        \"num_unique_values\": 152,\n        \"samples\": [\n          261,\n          182\n        ],\n        \"semantic_type\": \"\",\n        \"description\": \"\"\n      }\n    },\n    {\n      \"column\": \"fbs\",\n      \"properties\": {\n        \"dtype\": \"number\",\n        \"std\": 0,\n        \"min\": 0,\n        \"max\": 1,\n        \"num_unique_values\": 2,\n        \"samples\": [\n          0,\n          1\n        ],\n        \"semantic_type\": \"\",\n        \"description\": \"\"\n      }\n    },\n    {\n      \"column\": \"restecg\",\n      \"properties\": {\n        \"dtype\": \"number\",\n        \"std\": 0,\n        \"min\": 0,\n        \"max\": 2,\n        \"num_unique_values\": 3,\n        \"samples\": [\n          2,\n          0\n        ],\n        \"semantic_type\": \"\",\n        \"description\": \"\"\n      }\n    },\n    {\n      \"column\": \"thalach\",\n      \"properties\": {\n        \"dtype\": \"number\",\n        \"std\": 23,\n        \"min\": 71,\n        \"max\": 202,\n        \"num_unique_values\": 91,\n        \"samples\": [\n          175,\n          114\n        ],\n        \"semantic_type\": \"\",\n        \"description\": \"\"\n      }\n    },\n    {\n      \"column\": \"exang\",\n      \"properties\": {\n        \"dtype\": \"number\",\n        \"std\": 0,\n        \"min\": 0,\n        \"max\": 1,\n        \"num_unique_values\": 2,\n        \"samples\": [\n          1,\n          0\n        ],\n        \"semantic_type\": \"\",\n        \"description\": \"\"\n      }\n    },\n    {\n      \"column\": \"oldpeak\",\n      \"properties\": {\n        \"dtype\": \"number\",\n        \"std\": 1.1650246194814895,\n        \"min\": 0.0,\n        \"max\": 6.2,\n        \"num_unique_values\": 40,\n        \"samples\": [\n          2.4,\n          0.2\n        ],\n        \"semantic_type\": \"\",\n        \"description\": \"\"\n      }\n    },\n    {\n      \"column\": \"slope\",\n      \"properties\": {\n        \"dtype\": \"number\",\n        \"std\": 0,\n        \"min\": 1,\n        \"max\": 3,\n        \"num_unique_values\": 3,\n        \"samples\": [\n          3,\n          2\n        ],\n        \"semantic_type\": \"\",\n        \"description\": \"\"\n      }\n    },\n    {\n      \"column\": \"ca\",\n      \"properties\": {\n        \"dtype\": \"number\",\n        \"std\": 0,\n        \"min\": 0,\n        \"max\": 3,\n        \"num_unique_values\": 4,\n        \"samples\": [\n          3,\n          1\n        ],\n        \"semantic_type\": \"\",\n        \"description\": \"\"\n      }\n    },\n    {\n      \"column\": \"thal\",\n      \"properties\": {\n        \"dtype\": \"category\",\n        \"num_unique_values\": 5,\n        \"samples\": [\n          \"normal\",\n          \"2\"\n        ],\n        \"semantic_type\": \"\",\n        \"description\": \"\"\n      }\n    },\n    {\n      \"column\": \"target\",\n      \"properties\": {\n        \"dtype\": \"number\",\n        \"std\": 0,\n        \"min\": 0,\n        \"max\": 1,\n        \"num_unique_values\": 2,\n        \"samples\": [\n          1,\n          0\n        ],\n        \"semantic_type\": \"\",\n        \"description\": \"\"\n      }\n    }\n  ]\n}"
            }
          },
          "metadata": {},
          "execution_count": 5
        }
      ],
      "source": [
        "## YOUR CODE HERE\n",
        "raw_df.head()"
      ]
    },
    {
      "cell_type": "code",
      "source": [
        "raw_df.info()"
      ],
      "metadata": {
        "colab": {
          "base_uri": "https://localhost:8080/"
        },
        "id": "7HysVRnMEdzv",
        "outputId": "1f5523ad-e1f8-410d-c8f0-1f18362d885c"
      },
      "execution_count": 6,
      "outputs": [
        {
          "output_type": "stream",
          "name": "stdout",
          "text": [
            "<class 'pandas.core.frame.DataFrame'>\n",
            "RangeIndex: 303 entries, 0 to 302\n",
            "Data columns (total 14 columns):\n",
            " #   Column    Non-Null Count  Dtype  \n",
            "---  ------    --------------  -----  \n",
            " 0   age       303 non-null    int64  \n",
            " 1   sex       303 non-null    int64  \n",
            " 2   cp        303 non-null    int64  \n",
            " 3   trestbps  303 non-null    int64  \n",
            " 4   chol      303 non-null    int64  \n",
            " 5   fbs       303 non-null    int64  \n",
            " 6   restecg   303 non-null    int64  \n",
            " 7   thalach   303 non-null    int64  \n",
            " 8   exang     303 non-null    int64  \n",
            " 9   oldpeak   303 non-null    float64\n",
            " 10  slope     303 non-null    int64  \n",
            " 11  ca        303 non-null    int64  \n",
            " 12  thal      303 non-null    object \n",
            " 13  target    303 non-null    int64  \n",
            "dtypes: float64(1), int64(12), object(1)\n",
            "memory usage: 33.3+ KB\n"
          ]
        }
      ]
    },
    {
      "cell_type": "markdown",
      "metadata": {
        "id": "Glx6sm_daxsU"
      },
      "source": [
        "Draw some inference from the data. What does the target column indicate?\n",
        "\n",
        "The last column, \"target\", indicates whether the patient has a heart disease (1) or not\n",
        "(0).\n",
        "\n",
        "\n",
        "Additonal Observations on dataset:\n",
        "\n",
        "*   No missing values\n",
        "*   27% positive class samples in dataset\n",
        "\n"
      ]
    },
    {
      "cell_type": "code",
      "source": [
        "#Check the percentage of target samples\n",
        "print(raw_df['target'].value_counts())\n",
        "\n",
        "print(raw_df['target'].value_counts(normalize=True))"
      ],
      "metadata": {
        "colab": {
          "base_uri": "https://localhost:8080/"
        },
        "id": "IBN0BDGDq6-1",
        "outputId": "633dd3d6-aa87-4eb1-bd71-b52206e84e44"
      },
      "execution_count": 7,
      "outputs": [
        {
          "output_type": "stream",
          "name": "stdout",
          "text": [
            "target\n",
            "0    220\n",
            "1     83\n",
            "Name: count, dtype: int64\n",
            "target\n",
            "0    0.726073\n",
            "1    0.273927\n",
            "Name: proportion, dtype: float64\n"
          ]
        }
      ]
    },
    {
      "cell_type": "markdown",
      "source": [
        "### Split the data into a training and validation set\n",
        "\n",
        "Hint:: Use .sample() method from Pandas.\n",
        "\n",
        "Refer to link [here](https://pandas.pydata.org/docs/reference/api/pandas.DataFrame.sample.html)\n",
        "\n",
        "Official reference from pandas for drop method [here](https://pandas.pydata.org/docs/reference/api/pandas.DataFrame.drop.html)"
      ],
      "metadata": {
        "id": "sUsajA0isrL9"
      }
    },
    {
      "cell_type": "code",
      "execution_count": 8,
      "metadata": {
        "id": "TyXJ6K9maxsV",
        "colab": {
          "base_uri": "https://localhost:8080/"
        },
        "outputId": "9a3c66b8-1f8d-419e-95c3-64054f121d84"
      },
      "outputs": [
        {
          "output_type": "stream",
          "name": "stdout",
          "text": [
            "Using 242 samples for training and 61 for validation\n"
          ]
        }
      ],
      "source": [
        "## YOUR CODE HERE\n",
        "## YOUR CODE HERE\n",
        "\n",
        "#80 : 20 split or 70:30 split?\n",
        "\n",
        "#Using sample function over groupby to perform stratified sampling\n",
        "train_dataframe = raw_df.groupby('target', group_keys=False).apply(lambda x: x.sample(frac=0.8, random_state=42))\n",
        "val_dataframe = raw_df[~raw_df.index.isin(train_dataframe.index)]\n",
        "\n",
        "print(\n",
        "    \"Using %d samples for training and %d for validation\"\n",
        "    % (len(train_dataframe), len(val_dataframe))\n",
        ")"
      ]
    },
    {
      "cell_type": "code",
      "source": [
        "print(\"Proportion of target class in training dataset\")\n",
        "print(train_dataframe['target'].value_counts(normalize=True))\n",
        "\n",
        "print(\"Proportion of target class in validation dataset\")\n",
        "print(val_dataframe['target'].value_counts(normalize=True))"
      ],
      "metadata": {
        "colab": {
          "base_uri": "https://localhost:8080/"
        },
        "id": "UC5wv4VdydNN",
        "outputId": "978662d3-c100-4d7d-f66c-1751c8ebf788"
      },
      "execution_count": 9,
      "outputs": [
        {
          "output_type": "stream",
          "name": "stdout",
          "text": [
            "Proportion of target class in training dataset\n",
            "target\n",
            "0    0.727273\n",
            "1    0.272727\n",
            "Name: proportion, dtype: float64\n",
            "Proportion of target class in validation dataset\n",
            "target\n",
            "0    0.721311\n",
            "1    0.278689\n",
            "Name: proportion, dtype: float64\n"
          ]
        }
      ]
    },
    {
      "cell_type": "markdown",
      "source": [
        "### Converting into tensorflow dataset & creating batches"
      ],
      "metadata": {
        "id": "0GzvSLUsr56A"
      }
    },
    {
      "cell_type": "markdown",
      "metadata": {
        "id": "yylt5oWvaxsV"
      },
      "source": [
        "Generate `tf.data.Dataset` objects for each dataframe:\n",
        "\n",
        "Each `Dataset` yields a tuple `(input, target)` where `input` is a dictionary of features\n",
        "and `target` is the value `0` or `1`:\n",
        "\n",
        "Refer [here](https://www.tensorflow.org/api_docs/python/tf/data/Dataset#from_tensor_slices) to create the tuple using tensorflow."
      ]
    },
    {
      "cell_type": "code",
      "source": [
        "cols_list = list(raw_df.columns)\n",
        "features = cols_list[0:-1]\n",
        "target = cols_list[-1]\n",
        "\n",
        "print('List of features: ', features)\n",
        "print('Target: ', target)"
      ],
      "metadata": {
        "colab": {
          "base_uri": "https://localhost:8080/"
        },
        "id": "b4mHwW261uYq",
        "outputId": "8a9a67b1-cf00-4fde-fcb3-a9de6afcc4ca"
      },
      "execution_count": 10,
      "outputs": [
        {
          "output_type": "stream",
          "name": "stdout",
          "text": [
            "List of features:  ['age', 'sex', 'cp', 'trestbps', 'chol', 'fbs', 'restecg', 'thalach', 'exang', 'oldpeak', 'slope', 'ca', 'thal']\n",
            "Target:  target\n"
          ]
        }
      ]
    },
    {
      "cell_type": "code",
      "execution_count": 11,
      "metadata": {
        "id": "ZLwPzHf-axsV",
        "colab": {
          "base_uri": "https://localhost:8080/"
        },
        "outputId": "2cd13f1e-f190-440e-e44e-9f9bdf07623a"
      },
      "outputs": [
        {
          "output_type": "stream",
          "name": "stdout",
          "text": [
            "Sample rows from train ds\n",
            "({'age': <tf.Tensor: shape=(), dtype=int64, numpy=67>, 'sex': <tf.Tensor: shape=(), dtype=int64, numpy=0>, 'cp': <tf.Tensor: shape=(), dtype=int64, numpy=3>, 'trestbps': <tf.Tensor: shape=(), dtype=int64, numpy=152>, 'chol': <tf.Tensor: shape=(), dtype=int64, numpy=277>, 'fbs': <tf.Tensor: shape=(), dtype=int64, numpy=0>, 'restecg': <tf.Tensor: shape=(), dtype=int64, numpy=0>, 'thalach': <tf.Tensor: shape=(), dtype=int64, numpy=172>, 'exang': <tf.Tensor: shape=(), dtype=int64, numpy=0>, 'oldpeak': <tf.Tensor: shape=(), dtype=float64, numpy=0.0>, 'slope': <tf.Tensor: shape=(), dtype=int64, numpy=1>, 'ca': <tf.Tensor: shape=(), dtype=int64, numpy=1>, 'thal': <tf.Tensor: shape=(), dtype=string, numpy=b'normal'>}, <tf.Tensor: shape=(), dtype=int64, numpy=0>)\n",
            "({'age': <tf.Tensor: shape=(), dtype=int64, numpy=64>, 'sex': <tf.Tensor: shape=(), dtype=int64, numpy=1>, 'cp': <tf.Tensor: shape=(), dtype=int64, numpy=4>, 'trestbps': <tf.Tensor: shape=(), dtype=int64, numpy=128>, 'chol': <tf.Tensor: shape=(), dtype=int64, numpy=263>, 'fbs': <tf.Tensor: shape=(), dtype=int64, numpy=0>, 'restecg': <tf.Tensor: shape=(), dtype=int64, numpy=0>, 'thalach': <tf.Tensor: shape=(), dtype=int64, numpy=105>, 'exang': <tf.Tensor: shape=(), dtype=int64, numpy=1>, 'oldpeak': <tf.Tensor: shape=(), dtype=float64, numpy=0.2>, 'slope': <tf.Tensor: shape=(), dtype=int64, numpy=2>, 'ca': <tf.Tensor: shape=(), dtype=int64, numpy=1>, 'thal': <tf.Tensor: shape=(), dtype=string, numpy=b'reversible'>}, <tf.Tensor: shape=(), dtype=int64, numpy=0>)\n",
            "({'age': <tf.Tensor: shape=(), dtype=int64, numpy=62>, 'sex': <tf.Tensor: shape=(), dtype=int64, numpy=0>, 'cp': <tf.Tensor: shape=(), dtype=int64, numpy=4>, 'trestbps': <tf.Tensor: shape=(), dtype=int64, numpy=140>, 'chol': <tf.Tensor: shape=(), dtype=int64, numpy=394>, 'fbs': <tf.Tensor: shape=(), dtype=int64, numpy=0>, 'restecg': <tf.Tensor: shape=(), dtype=int64, numpy=2>, 'thalach': <tf.Tensor: shape=(), dtype=int64, numpy=157>, 'exang': <tf.Tensor: shape=(), dtype=int64, numpy=0>, 'oldpeak': <tf.Tensor: shape=(), dtype=float64, numpy=1.2>, 'slope': <tf.Tensor: shape=(), dtype=int64, numpy=2>, 'ca': <tf.Tensor: shape=(), dtype=int64, numpy=0>, 'thal': <tf.Tensor: shape=(), dtype=string, numpy=b'normal'>}, <tf.Tensor: shape=(), dtype=int64, numpy=0>)\n",
            "----------------------------------------------------\n",
            "Sample rows from val ds\n",
            "({'age': <tf.Tensor: shape=(), dtype=int64, numpy=67>, 'sex': <tf.Tensor: shape=(), dtype=int64, numpy=1>, 'cp': <tf.Tensor: shape=(), dtype=int64, numpy=4>, 'trestbps': <tf.Tensor: shape=(), dtype=int64, numpy=120>, 'chol': <tf.Tensor: shape=(), dtype=int64, numpy=229>, 'fbs': <tf.Tensor: shape=(), dtype=int64, numpy=0>, 'restecg': <tf.Tensor: shape=(), dtype=int64, numpy=2>, 'thalach': <tf.Tensor: shape=(), dtype=int64, numpy=129>, 'exang': <tf.Tensor: shape=(), dtype=int64, numpy=1>, 'oldpeak': <tf.Tensor: shape=(), dtype=float64, numpy=2.6>, 'slope': <tf.Tensor: shape=(), dtype=int64, numpy=2>, 'ca': <tf.Tensor: shape=(), dtype=int64, numpy=2>, 'thal': <tf.Tensor: shape=(), dtype=string, numpy=b'reversible'>}, <tf.Tensor: shape=(), dtype=int64, numpy=0>)\n",
            "({'age': <tf.Tensor: shape=(), dtype=int64, numpy=62>, 'sex': <tf.Tensor: shape=(), dtype=int64, numpy=0>, 'cp': <tf.Tensor: shape=(), dtype=int64, numpy=4>, 'trestbps': <tf.Tensor: shape=(), dtype=int64, numpy=140>, 'chol': <tf.Tensor: shape=(), dtype=int64, numpy=268>, 'fbs': <tf.Tensor: shape=(), dtype=int64, numpy=0>, 'restecg': <tf.Tensor: shape=(), dtype=int64, numpy=2>, 'thalach': <tf.Tensor: shape=(), dtype=int64, numpy=160>, 'exang': <tf.Tensor: shape=(), dtype=int64, numpy=0>, 'oldpeak': <tf.Tensor: shape=(), dtype=float64, numpy=3.6>, 'slope': <tf.Tensor: shape=(), dtype=int64, numpy=3>, 'ca': <tf.Tensor: shape=(), dtype=int64, numpy=2>, 'thal': <tf.Tensor: shape=(), dtype=string, numpy=b'normal'>}, <tf.Tensor: shape=(), dtype=int64, numpy=1>)\n",
            "({'age': <tf.Tensor: shape=(), dtype=int64, numpy=63>, 'sex': <tf.Tensor: shape=(), dtype=int64, numpy=1>, 'cp': <tf.Tensor: shape=(), dtype=int64, numpy=4>, 'trestbps': <tf.Tensor: shape=(), dtype=int64, numpy=130>, 'chol': <tf.Tensor: shape=(), dtype=int64, numpy=254>, 'fbs': <tf.Tensor: shape=(), dtype=int64, numpy=0>, 'restecg': <tf.Tensor: shape=(), dtype=int64, numpy=2>, 'thalach': <tf.Tensor: shape=(), dtype=int64, numpy=147>, 'exang': <tf.Tensor: shape=(), dtype=int64, numpy=0>, 'oldpeak': <tf.Tensor: shape=(), dtype=float64, numpy=1.4>, 'slope': <tf.Tensor: shape=(), dtype=int64, numpy=2>, 'ca': <tf.Tensor: shape=(), dtype=int64, numpy=1>, 'thal': <tf.Tensor: shape=(), dtype=string, numpy=b'reversible'>}, <tf.Tensor: shape=(), dtype=int64, numpy=1>)\n"
          ]
        }
      ],
      "source": [
        "# A utility method to create a tf.data dataset from a Pandas Dataframe\n",
        "\n",
        "def dataframe_to_dataset(dataframe):\n",
        "    ## YOUR CODE HERE\n",
        "    dataframe = dataframe.copy()\n",
        "    labels = dataframe.pop('target')\n",
        "    ds = tf.data.Dataset.from_tensor_slices((dict(dataframe), labels)) #to create multiple tensors of input length as it mentioned to create multiple objects\n",
        "    return ds\n",
        "\n",
        "train_ds = dataframe_to_dataset(train_dataframe)\n",
        "val_ds = dataframe_to_dataset(val_dataframe)\n",
        "\n",
        "\n",
        "\n",
        "print('Sample rows from train ds')\n",
        "for row in train_ds.take(3):\n",
        "  print(row)\n",
        "\n",
        "\n",
        "print('----------------------------------------------------')\n",
        "print('Sample rows from val ds')\n",
        "for row in val_ds.take(3):\n",
        "    print(row)"
      ]
    },
    {
      "cell_type": "code",
      "execution_count": 12,
      "metadata": {
        "id": "oeCYFOjLaxsW",
        "colab": {
          "base_uri": "https://localhost:8080/"
        },
        "outputId": "3220a0bb-7cf5-47e4-d681-df22072600b4"
      },
      "outputs": [
        {
          "output_type": "stream",
          "name": "stdout",
          "text": [
            "Sample datapoint from train_ds\n",
            "\n",
            "Every feature: ['age', 'sex', 'cp', 'trestbps', 'chol', 'fbs', 'restecg', 'thalach', 'exang', 'oldpeak', 'slope', 'ca', 'thal']\n",
            "A batch: {'age': <tf.Tensor: shape=(), dtype=int64, numpy=67>, 'sex': <tf.Tensor: shape=(), dtype=int64, numpy=0>, 'cp': <tf.Tensor: shape=(), dtype=int64, numpy=3>, 'trestbps': <tf.Tensor: shape=(), dtype=int64, numpy=152>, 'chol': <tf.Tensor: shape=(), dtype=int64, numpy=277>, 'fbs': <tf.Tensor: shape=(), dtype=int64, numpy=0>, 'restecg': <tf.Tensor: shape=(), dtype=int64, numpy=0>, 'thalach': <tf.Tensor: shape=(), dtype=int64, numpy=172>, 'exang': <tf.Tensor: shape=(), dtype=int64, numpy=0>, 'oldpeak': <tf.Tensor: shape=(), dtype=float64, numpy=0.0>, 'slope': <tf.Tensor: shape=(), dtype=int64, numpy=1>, 'ca': <tf.Tensor: shape=(), dtype=int64, numpy=1>, 'thal': <tf.Tensor: shape=(), dtype=string, numpy=b'normal'>}\n",
            "A batch of targets: tf.Tensor(0, shape=(), dtype=int64)\n"
          ]
        }
      ],
      "source": [
        "# Visualizing one datapoint from the formatted data\n",
        "## YOUR CODE HERE\n",
        "print('Sample datapoint from train_ds\\n')\n",
        "\n",
        "for feature_batch, label_batch in train_ds.take(1):\n",
        "  print('Every feature:', list(feature_batch.keys()))\n",
        "  print('A batch:', feature_batch)\n",
        "  print('A batch of targets:', label_batch )\n",
        "\n",
        "\n"
      ]
    },
    {
      "cell_type": "markdown",
      "metadata": {
        "id": "_JNHU2qQaxsW"
      },
      "source": [
        "#### Create the batch of the datasets:"
      ]
    },
    {
      "cell_type": "markdown",
      "source": [
        "Refer [here](https://www.tensorflow.org/api_docs/python/tf/data/Dataset#batch) to create a batch using tensorflow."
      ],
      "metadata": {
        "id": "06SkbqOG4egU"
      }
    },
    {
      "cell_type": "code",
      "execution_count": 13,
      "metadata": {
        "id": "Rb11lwxDaxsW",
        "colab": {
          "base_uri": "https://localhost:8080/"
        },
        "outputId": "cfac6f8e-a52a-4404-eecb-79d79831d07c"
      },
      "outputs": [
        {
          "output_type": "stream",
          "name": "stdout",
          "text": [
            "[({'age': array([67, 64, 62, 57, 49]), 'sex': array([0, 1, 0, 0, 1]), 'cp': array([3, 4, 4, 2, 2]), 'trestbps': array([152, 128, 140, 130, 130]), 'chol': array([277, 263, 394, 236, 266]), 'fbs': array([0, 0, 0, 0, 0]), 'restecg': array([0, 0, 2, 2, 0]), 'thalach': array([172, 105, 157, 174, 171]), 'exang': array([0, 1, 0, 0, 0]), 'oldpeak': array([0. , 0.2, 1.2, 0. , 0.6]), 'slope': array([1, 2, 2, 2, 1]), 'ca': array([1, 1, 0, 1, 0]), 'thal': array([b'normal', b'reversible', b'normal', b'normal', b'normal'],\n",
            "      dtype=object)}, array([0, 0, 0, 0, 0])), ({'age': array([43, 56, 52, 60, 49]), 'sex': array([1, 1, 1, 0, 0]), 'cp': array([4, 2, 2, 3, 4]), 'trestbps': array([110, 130, 134, 102, 130]), 'chol': array([211, 221, 201, 318, 269]), 'fbs': array([0, 0, 0, 0, 0]), 'restecg': array([0, 2, 0, 0, 0]), 'thalach': array([161, 163, 158, 160, 163]), 'exang': array([0, 0, 0, 0, 0]), 'oldpeak': array([0. , 0. , 0.8, 0. , 0. ]), 'slope': array([1, 1, 1, 1, 1]), 'ca': array([0, 0, 1, 1, 0]), 'thal': array([b'reversible', b'reversible', b'normal', b'normal', b'normal'],\n",
            "      dtype=object)}, array([0, 0, 0, 0, 0])), ({'age': array([59, 65, 61, 44, 59]), 'sex': array([1, 0, 0, 1, 1]), 'cp': array([1, 3, 4, 2, 2]), 'trestbps': array([178, 155, 130, 120, 140]), 'chol': array([270, 269, 330, 263, 221]), 'fbs': array([0, 0, 0, 0, 0]), 'restecg': array([2, 0, 2, 0, 0]), 'thalach': array([145, 148, 169, 173, 164]), 'exang': array([0, 0, 0, 0, 1]), 'oldpeak': array([4.2, 0.8, 0. , 0. , 0. ]), 'slope': array([3, 1, 1, 1, 1]), 'ca': array([0, 0, 0, 0, 0]), 'thal': array([b'reversible', b'normal', b'normal', b'reversible', b'normal'],\n",
            "      dtype=object)}, array([0, 0, 0, 0, 0])), ({'age': array([56, 55, 58, 60, 51]), 'sex': array([1, 0, 1, 1, 1]), 'cp': array([4, 2, 2, 4, 3]), 'trestbps': array([125, 132, 120, 130, 125]), 'chol': array([249, 342, 284, 253, 245]), 'fbs': array([1, 0, 0, 0, 1]), 'restecg': array([2, 0, 2, 0, 2]), 'thalach': array([144, 166, 160, 144, 166]), 'exang': array([1, 0, 0, 1, 0]), 'oldpeak': array([1.2, 1.2, 1.8, 1.4, 2.4]), 'slope': array([2, 1, 2, 1, 2]), 'ca': array([1, 0, 0, 1, 0]), 'thal': array([b'normal', b'normal', b'normal', b'reversible', b'normal'],\n",
            "      dtype=object)}, array([0, 0, 0, 0, 0])), ({'age': array([59, 56, 48, 59, 54]), 'sex': array([1, 1, 1, 1, 0]), 'cp': array([3, 4, 4, 4, 3]), 'trestbps': array([150, 132, 122, 135, 108]), 'chol': array([212, 184, 222, 234, 267]), 'fbs': array([1, 0, 0, 0, 0]), 'restecg': array([0, 2, 2, 0, 2]), 'thalach': array([157, 105, 186, 161, 167]), 'exang': array([0, 1, 0, 0, 0]), 'oldpeak': array([1.6, 2.1, 0. , 0.5, 0. ]), 'slope': array([1, 2, 1, 2, 1]), 'ca': array([0, 1, 0, 0, 0]), 'thal': array([b'normal', b'fixed', b'normal', b'reversible', b'normal'],\n",
            "      dtype=object)}, array([0, 0, 0, 0, 0])), ({'age': array([54, 43, 64, 51, 70]), 'sex': array([1, 1, 1, 0, 1]), 'cp': array([3, 3, 1, 3, 2]), 'trestbps': array([125, 130, 110, 130, 156]), 'chol': array([273, 315, 211, 256, 245]), 'fbs': array([0, 0, 0, 0, 0]), 'restecg': array([2, 0, 2, 2, 2]), 'thalach': array([152, 162, 144, 149, 143]), 'exang': array([0, 0, 1, 0, 0]), 'oldpeak': array([0.5, 1.9, 1.8, 0.5, 0. ]), 'slope': array([3, 1, 2, 1, 1]), 'ca': array([1, 1, 0, 0, 0]), 'thal': array([b'normal', b'normal', b'normal', b'normal', b'normal'],\n",
            "      dtype=object)}, array([0, 0, 0, 0, 0])), ({'age': array([50, 65, 45, 44, 41]), 'sex': array([0, 1, 0, 1, 1]), 'cp': array([4, 1, 4, 2, 3]), 'trestbps': array([110, 138, 138, 130, 112]), 'chol': array([254, 282, 236, 219, 250]), 'fbs': array([0, 1, 0, 0, 0]), 'restecg': array([2, 2, 2, 2, 0]), 'thalach': array([159, 174, 152, 188, 179]), 'exang': array([0, 0, 1, 0, 0]), 'oldpeak': array([0. , 1.4, 0.2, 0. , 0. ]), 'slope': array([1, 2, 2, 1, 1]), 'ca': array([0, 1, 0, 0, 0]), 'thal': array([b'normal', b'normal', b'normal', b'normal', b'normal'],\n",
            "      dtype=object)}, array([0, 0, 0, 0, 0])), ({'age': array([50, 68, 49, 41, 60]), 'sex': array([0, 1, 0, 0, 0]), 'cp': array([2, 3, 2, 2, 4]), 'trestbps': array([120, 118, 134, 126, 158]), 'chol': array([244, 277, 271, 306, 305]), 'fbs': array([0, 0, 0, 0, 0]), 'restecg': array([0, 0, 0, 0, 2]), 'thalach': array([162, 151, 162, 163, 161]), 'exang': array([0, 0, 0, 0, 0]), 'oldpeak': array([1.1, 1. , 0. , 0. , 0. ]), 'slope': array([1, 1, 2, 1, 1]), 'ca': array([0, 1, 0, 0, 0]), 'thal': array([b'normal', b'reversible', b'normal', b'normal', b'normal'],\n",
            "      dtype=object)}, array([0, 0, 0, 0, 0])), ({'age': array([48, 53, 52, 52, 70]), 'sex': array([1, 1, 1, 1, 1]), 'cp': array([3, 3, 4, 4, 4]), 'trestbps': array([124, 130, 112, 108, 130]), 'chol': array([255, 197, 230, 233, 322]), 'fbs': array([1, 1, 0, 1, 0]), 'restecg': array([0, 2, 0, 0, 2]), 'thalach': array([175, 152, 160, 147, 109]), 'exang': array([0, 0, 0, 0, 0]), 'oldpeak': array([0. , 1.2, 0. , 0.1, 2.4]), 'slope': array([1, 3, 1, 1, 2]), 'ca': array([2, 0, 1, 3, 3]), 'thal': array([b'normal', b'normal', b'normal', b'reversible', b'normal'],\n",
            "      dtype=object)}, array([0, 0, 0, 0, 0])), ({'age': array([61, 57, 41, 46, 66]), 'sex': array([0, 1, 1, 0, 1]), 'cp': array([4, 3, 2, 2, 4]), 'trestbps': array([145, 150, 110, 105, 160]), 'chol': array([307, 126, 235, 204, 228]), 'fbs': array([0, 1, 0, 0, 0]), 'restecg': array([2, 0, 0, 0, 2]), 'thalach': array([146, 173, 153, 172, 138]), 'exang': array([1, 0, 0, 0, 0]), 'oldpeak': array([1. , 0.2, 0. , 0. , 2.3]), 'slope': array([2, 1, 1, 1, 1]), 'ca': array([0, 1, 0, 0, 0]), 'thal': array([b'reversible', b'reversible', b'normal', b'normal', b'fixed'],\n",
            "      dtype=object)}, array([0, 0, 0, 0, 0])), ({'age': array([54, 45, 64, 57, 46]), 'sex': array([1, 1, 1, 1, 1]), 'cp': array([2, 4, 3, 0, 4]), 'trestbps': array([108, 104, 140, 130, 120]), 'chol': array([309, 208, 335, 131, 249]), 'fbs': array([0, 0, 0, 0, 0]), 'restecg': array([0, 2, 0, 1, 2]), 'thalach': array([156, 148, 158, 115, 144]), 'exang': array([0, 1, 0, 1, 0]), 'oldpeak': array([0. , 3. , 0. , 1.2, 0.8]), 'slope': array([1, 2, 1, 1, 1]), 'ca': array([0, 0, 0, 1, 0]), 'thal': array([b'reversible', b'normal', b'normal', b'normal', b'reversible'],\n",
            "      dtype=object)}, array([0, 0, 0, 0, 0])), ({'age': array([61, 50, 52, 54, 51]), 'sex': array([1, 0, 1, 0, 1]), 'cp': array([3, 3, 2, 3, 3]), 'trestbps': array([150, 120, 128, 135,  94]), 'chol': array([243, 219, 205, 304, 227]), 'fbs': array([1, 0, 1, 1, 0]), 'restecg': array([0, 0, 0, 0, 0]), 'thalach': array([137, 158, 184, 170, 154]), 'exang': array([1, 0, 0, 0, 1]), 'oldpeak': array([1. , 1.6, 0. , 0. , 0. ]), 'slope': array([2, 2, 1, 1, 1]), 'ca': array([0, 0, 0, 0, 1]), 'thal': array([b'normal', b'normal', b'normal', b'normal', b'reversible'],\n",
            "      dtype=object)}, array([0, 0, 0, 0, 0])), ({'age': array([59, 57, 42, 45, 44]), 'sex': array([1, 0, 1, 0, 0]), 'cp': array([1, 4, 2, 2, 3]), 'trestbps': array([170, 120, 120, 130, 118]), 'chol': array([288, 354, 295, 234, 242]), 'fbs': array([0, 0, 0, 0, 0]), 'restecg': array([2, 0, 0, 2, 0]), 'thalach': array([159, 163, 162, 175, 149]), 'exang': array([0, 1, 0, 0, 0]), 'oldpeak': array([0.2, 0.6, 0. , 0.6, 0.3]), 'slope': array([2, 1, 1, 2, 2]), 'ca': array([0, 0, 0, 0, 1]), 'thal': array([b'reversible', b'normal', b'normal', b'normal', b'normal'],\n",
            "      dtype=object)}, array([0, 0, 0, 0, 0])), ({'age': array([63, 71, 35, 64, 57]), 'sex': array([0, 0, 1, 0, 0]), 'cp': array([4, 4, 4, 4, 1]), 'trestbps': array([124, 112, 120, 180, 130]), 'chol': array([197, 149, 198, 325, 236]), 'fbs': array([0, 0, 0, 0, 0]), 'restecg': array([0, 0, 0, 0, 0]), 'thalach': array([136, 125, 130, 154, 174]), 'exang': array([1, 0, 1, 1, 0]), 'oldpeak': array([0. , 1.6, 1.6, 0. , 0. ]), 'slope': array([2, 2, 2, 1, 1]), 'ca': array([0, 0, 0, 0, 1]), 'thal': array([b'normal', b'normal', b'reversible', b'normal', b'2'], dtype=object)}, array([0, 0, 0, 0, 0])), ({'age': array([57, 62, 48, 60, 57]), 'sex': array([1, 1, 1, 1, 1]), 'cp': array([2, 4, 2, 4, 4]), 'trestbps': array([124, 120, 110, 125, 150]), 'chol': array([261, 267, 229, 258, 276]), 'fbs': array([0, 0, 0, 0, 0]), 'restecg': array([0, 0, 0, 2, 2]), 'thalach': array([141,  99, 168, 141, 112]), 'exang': array([0, 1, 0, 1, 1]), 'oldpeak': array([0.3, 1.8, 1. , 2.8, 0.6]), 'slope': array([1, 2, 3, 2, 2]), 'ca': array([0, 2, 0, 1, 1]), 'thal': array([b'reversible', b'reversible', b'reversible', b'reversible',\n",
            "       b'fixed'], dtype=object)}, array([0, 0, 0, 0, 0])), ({'age': array([44, 54, 54, 43, 41]), 'sex': array([1, 0, 1, 1, 1]), 'cp': array([3, 3, 2, 4, 2]), 'trestbps': array([140, 110, 192, 115, 135]), 'chol': array([235, 214, 283, 303, 203]), 'fbs': array([0, 0, 0, 0, 0]), 'restecg': array([2, 0, 2, 0, 0]), 'thalach': array([180, 158, 195, 181, 132]), 'exang': array([0, 0, 0, 0, 0]), 'oldpeak': array([0. , 1.6, 0. , 1.2, 0. ]), 'slope': array([1, 2, 1, 2, 2]), 'ca': array([0, 0, 1, 0, 0]), 'thal': array([b'normal', b'normal', b'reversible', b'normal', b'fixed'],\n",
            "      dtype=object)}, array([0, 0, 0, 0, 0])), ({'age': array([64, 41, 52, 52, 74]), 'sex': array([0, 1, 1, 1, 0]), 'cp': array([4, 2, 1, 2, 2]), 'trestbps': array([130, 120, 152, 120, 120]), 'chol': array([303, 157, 298, 325, 269]), 'fbs': array([0, 0, 1, 0, 0]), 'restecg': array([0, 0, 0, 0, 2]), 'thalach': array([122, 182, 178, 172, 121]), 'exang': array([0, 0, 0, 0, 1]), 'oldpeak': array([2. , 0. , 1.2, 0.2, 0.2]), 'slope': array([2, 1, 2, 1, 1]), 'ca': array([2, 0, 0, 0, 1]), 'thal': array([b'normal', b'normal', b'reversible', b'normal', b'normal'],\n",
            "      dtype=object)}, array([0, 0, 0, 0, 0])), ({'age': array([67, 57, 44, 57, 56]), 'sex': array([0, 0, 1, 1, 1]), 'cp': array([3, 4, 3, 4, 2]), 'trestbps': array([115, 140, 130, 110, 120]), 'chol': array([564, 241, 233, 201, 240]), 'fbs': array([0, 0, 0, 0, 0]), 'restecg': array([2, 0, 0, 0, 0]), 'thalach': array([160, 123, 179, 126, 169]), 'exang': array([0, 1, 1, 1, 0]), 'oldpeak': array([1.6, 0.2, 0.4, 1.5, 0. ]), 'slope': array([2, 2, 1, 2, 3]), 'ca': array([0, 0, 0, 0, 0]), 'thal': array([b'reversible', b'reversible', b'normal', b'fixed', b'normal'],\n",
            "      dtype=object)}, array([0, 0, 0, 0, 0])), ({'age': array([60, 63, 37, 42, 66]), 'sex': array([1, 1, 1, 0, 1]), 'cp': array([3, 1, 3, 4, 4]), 'trestbps': array([140, 145, 130, 102, 120]), 'chol': array([185, 233, 250, 265, 302]), 'fbs': array([0, 1, 0, 0, 0]), 'restecg': array([2, 2, 0, 2, 2]), 'thalach': array([155, 150, 187, 122, 151]), 'exang': array([0, 0, 0, 0, 0]), 'oldpeak': array([3. , 2.3, 3.5, 0.6, 0.4]), 'slope': array([2, 3, 3, 2, 2]), 'ca': array([0, 0, 0, 0, 0]), 'thal': array([b'normal', b'fixed', b'normal', b'normal', b'normal'], dtype=object)}, array([0, 0, 0, 0, 0])), ({'age': array([76, 37, 45, 58, 58]), 'sex': array([0, 0, 0, 0, 1]), 'cp': array([3, 3, 2, 4, 4]), 'trestbps': array([140, 120, 112, 100, 146]), 'chol': array([197, 215, 160, 248, 218]), 'fbs': array([0, 0, 0, 0, 0]), 'restecg': array([1, 0, 0, 2, 0]), 'thalach': array([116, 170, 138, 122, 105]), 'exang': array([0, 0, 0, 0, 0]), 'oldpeak': array([1.1, 0. , 0. , 1. , 2. ]), 'slope': array([2, 1, 2, 2, 2]), 'ca': array([0, 0, 0, 0, 1]), 'thal': array([b'normal', b'normal', b'normal', b'normal', b'reversible'],\n",
            "      dtype=object)}, array([0, 0, 0, 0, 0])), ({'age': array([53, 51, 59, 29, 43]), 'sex': array([1, 0, 1, 1, 1]), 'cp': array([3, 3, 4, 2, 4]), 'trestbps': array([130, 140, 138, 130, 150]), 'chol': array([246, 308, 271, 204, 247]), 'fbs': array([1, 0, 0, 0, 0]), 'restecg': array([2, 2, 2, 2, 0]), 'thalach': array([173, 142, 182, 202, 171]), 'exang': array([0, 0, 0, 0, 0]), 'oldpeak': array([0. , 1.5, 0. , 0. , 1.5]), 'slope': array([1, 1, 1, 1, 1]), 'ca': array([3, 1, 0, 0, 0]), 'thal': array([b'normal', b'normal', b'normal', b'normal', b'normal'],\n",
            "      dtype=object)}, array([0, 0, 0, 0, 0])), ({'age': array([47, 62, 44, 57, 71]), 'sex': array([1, 0, 1, 1, 0]), 'cp': array([4, 4, 4, 3, 3]), 'trestbps': array([110, 150, 110, 150, 110]), 'chol': array([275, 244, 197, 168, 265]), 'fbs': array([0, 0, 0, 0, 1]), 'restecg': array([2, 0, 2, 0, 2]), 'thalach': array([118, 154, 177, 174, 130]), 'exang': array([1, 1, 0, 0, 0]), 'oldpeak': array([1. , 1.4, 0. , 1.6, 0. ]), 'slope': array([2, 2, 1, 1, 1]), 'ca': array([1, 0, 1, 0, 1]), 'thal': array([b'normal', b'normal', b'normal', b'normal', b'normal'],\n",
            "      dtype=object)}, array([0, 0, 0, 0, 0])), ({'age': array([45, 53, 42, 54, 45]), 'sex': array([1, 1, 1, 0, 1]), 'cp': array([3, 4, 4, 3, 4]), 'trestbps': array([110, 140, 140, 160, 115]), 'chol': array([264, 203, 226, 201, 260]), 'fbs': array([0, 1, 0, 0, 0]), 'restecg': array([1, 2, 0, 0, 2]), 'thalach': array([132, 155, 178, 163, 185]), 'exang': array([0, 1, 0, 0, 0]), 'oldpeak': array([1.2, 3.1, 0. , 0. , 0. ]), 'slope': array([1, 3, 1, 1, 1]), 'ca': array([0, 0, 0, 1, 0]), 'thal': array([b'normal', b'reversible', b'normal', b'normal', b'normal'],\n",
            "      dtype=object)}, array([0, 0, 0, 0, 0])), ({'age': array([46, 56, 65, 41, 40]), 'sex': array([0, 1, 1, 1, 1]), 'cp': array([3, 2, 4, 3, 4]), 'trestbps': array([142, 120, 110, 130, 152]), 'chol': array([177, 236, 248, 214, 223]), 'fbs': array([0, 0, 0, 0, 0]), 'restecg': array([2, 0, 2, 2, 0]), 'thalach': array([160, 178, 158, 168, 181]), 'exang': array([1, 0, 0, 0, 0]), 'oldpeak': array([1.4, 0.8, 0.6, 2. , 0. ]), 'slope': array([3, 1, 1, 2, 1]), 'ca': array([0, 0, 2, 0, 0]), 'thal': array([b'normal', b'normal', b'fixed', b'normal', b'reversible'],\n",
            "      dtype=object)}, array([0, 0, 0, 0, 0])), ({'age': array([41, 44, 64, 52, 51]), 'sex': array([0, 1, 0, 1, 1]), 'cp': array([3, 3, 3, 3, 4]), 'trestbps': array([112, 120, 140, 172, 140]), 'chol': array([268, 226, 313, 199, 261]), 'fbs': array([0, 0, 0, 1, 0]), 'restecg': array([2, 0, 0, 0, 2]), 'thalach': array([172, 169, 133, 162, 186]), 'exang': array([1, 0, 0, 0, 1]), 'oldpeak': array([0. , 0. , 0.2, 0.5, 0. ]), 'slope': array([1, 1, 1, 1, 1]), 'ca': array([0, 0, 0, 0, 0]), 'thal': array([b'normal', b'normal', b'reversible', b'reversible', b'normal'],\n",
            "      dtype=object)}, array([0, 0, 0, 0, 0])), ({'age': array([59, 41, 59, 39, 54]), 'sex': array([1, 0, 1, 0, 1]), 'cp': array([1, 2, 0, 3, 4]), 'trestbps': array([134, 105, 164,  94, 124]), 'chol': array([204, 198, 176, 199, 266]), 'fbs': array([0, 0, 1, 0, 0]), 'restecg': array([0, 0, 0, 0, 2]), 'thalach': array([162, 168,  90, 179, 109]), 'exang': array([0, 0, 0, 0, 1]), 'oldpeak': array([0.8, 0. , 1. , 0. , 2.2]), 'slope': array([1, 1, 1, 1, 2]), 'ca': array([2, 1, 2, 0, 1]), 'thal': array([b'normal', b'normal', b'1', b'normal', b'reversible'], dtype=object)}, array([0, 0, 0, 0, 0])), ({'age': array([39, 64, 47, 55, 53]), 'sex': array([0, 1, 1, 0, 0]), 'cp': array([3, 3, 3, 2, 4]), 'trestbps': array([138, 125, 130, 135, 138]), 'chol': array([220, 309, 253, 250, 234]), 'fbs': array([0, 0, 0, 0, 0]), 'restecg': array([0, 0, 0, 2, 2]), 'thalach': array([152, 131, 179, 161, 160]), 'exang': array([0, 1, 0, 0, 0]), 'oldpeak': array([0. , 1.8, 0. , 1.4, 0. ]), 'slope': array([2, 2, 1, 2, 1]), 'ca': array([0, 0, 0, 0, 0]), 'thal': array([b'normal', b'reversible', b'normal', b'normal', b'normal'],\n",
            "      dtype=object)}, array([0, 0, 0, 0, 0])), ({'age': array([60, 39, 46, 69, 64]), 'sex': array([0, 1, 0, 0, 1]), 'cp': array([3, 3, 4, 1, 1]), 'trestbps': array([120, 140, 138, 140, 170]), 'chol': array([178, 321, 243, 239, 227]), 'fbs': array([1, 0, 0, 0, 0]), 'restecg': array([0, 2, 2, 0, 2]), 'thalach': array([ 96, 182, 152, 151, 155]), 'exang': array([0, 0, 1, 0, 0]), 'oldpeak': array([0. , 0. , 0. , 1.8, 0.6]), 'slope': array([1, 1, 2, 1, 2]), 'ca': array([0, 0, 0, 2, 0]), 'thal': array([b'normal', b'normal', b'normal', b'normal', b'reversible'],\n",
            "      dtype=object)}, array([0, 0, 0, 0, 0])), ({'age': array([61, 58, 53, 68, 62]), 'sex': array([1, 1, 0, 1, 1]), 'cp': array([4, 4, 4, 0, 3]), 'trestbps': array([140, 125, 130, 144, 130]), 'chol': array([207, 300, 264, 193, 231]), 'fbs': array([0, 0, 0, 1, 0]), 'restecg': array([2, 2, 2, 1, 0]), 'thalach': array([138, 171, 143, 141, 146]), 'exang': array([1, 0, 0, 0, 0]), 'oldpeak': array([1.9, 0. , 0.4, 3.4, 1.8]), 'slope': array([1, 1, 2, 1, 2]), 'ca': array([1, 2, 0, 2, 3]), 'thal': array([b'reversible', b'reversible', b'normal', b'normal', b'reversible'],\n",
            "      dtype=object)}, array([0, 0, 0, 0, 0])), ({'age': array([57, 57, 47, 62, 67]), 'sex': array([1, 1, 1, 1, 0]), 'cp': array([4, 2, 3, 2, 4]), 'trestbps': array([152, 154, 138, 128, 106]), 'chol': array([274, 232, 257, 208, 223]), 'fbs': array([0, 0, 0, 1, 0]), 'restecg': array([0, 2, 2, 2, 0]), 'thalach': array([ 88, 164, 156, 140, 142]), 'exang': array([1, 0, 0, 0, 0]), 'oldpeak': array([1.2, 0. , 0. , 0. , 0.3]), 'slope': array([2, 1, 1, 1, 1]), 'ca': array([1, 1, 0, 0, 2]), 'thal': array([b'reversible', b'normal', b'normal', b'normal', b'normal'],\n",
            "      dtype=object)}, array([0, 0, 0, 0, 0])), ({'age': array([41, 50, 35, 52, 50]), 'sex': array([0, 1, 0, 0, 1]), 'cp': array([2, 3, 4, 3, 3]), 'trestbps': array([130, 129, 138, 136, 140]), 'chol': array([204, 196, 183, 196, 233]), 'fbs': array([0, 0, 0, 0, 0]), 'restecg': array([2, 0, 0, 2, 0]), 'thalach': array([172, 163, 182, 169, 163]), 'exang': array([0, 0, 0, 0, 0]), 'oldpeak': array([1.4, 0. , 1.4, 0.1, 0.6]), 'slope': array([1, 1, 1, 2, 2]), 'ca': array([0, 0, 0, 0, 1]), 'thal': array([b'normal', b'normal', b'normal', b'normal', b'reversible'],\n",
            "      dtype=object)}, array([0, 0, 0, 0, 0])), ({'age': array([35, 58, 63, 51, 65]), 'sex': array([1, 1, 0, 1, 0]), 'cp': array([2, 4, 3, 4, 3]), 'trestbps': array([122, 128, 135, 140, 160]), 'chol': array([192, 216, 252, 299, 360]), 'fbs': array([0, 0, 0, 0, 0]), 'restecg': array([0, 2, 2, 0, 2]), 'thalach': array([174, 131, 172, 173, 151]), 'exang': array([0, 1, 0, 1, 0]), 'oldpeak': array([0. , 2.2, 0. , 1.6, 0.8]), 'slope': array([1, 2, 1, 1, 1]), 'ca': array([0, 3, 0, 0, 0]), 'thal': array([b'normal', b'reversible', b'normal', b'reversible', b'normal'],\n",
            "      dtype=object)}, array([0, 0, 0, 0, 0])), ({'age': array([57, 59, 53, 46, 65]), 'sex': array([1, 1, 1, 1, 1]), 'cp': array([4, 1, 4, 2, 4]), 'trestbps': array([140, 160, 142, 101, 120]), 'chol': array([192, 273, 226, 197, 177]), 'fbs': array([0, 0, 0, 1, 0]), 'restecg': array([0, 2, 2, 0, 0]), 'thalach': array([148, 125, 111, 156, 140]), 'exang': array([0, 0, 1, 0, 0]), 'oldpeak': array([0.4, 0. , 0. , 0. , 0.4]), 'slope': array([2, 1, 1, 1, 1]), 'ca': array([0, 0, 0, 0, 0]), 'thal': array([b'fixed', b'normal', b'reversible', b'reversible', b'reversible'],\n",
            "      dtype=object)}, array([0, 0, 0, 0, 0])), ({'age': array([41, 35, 56, 54, 54]), 'sex': array([1, 1, 0, 1, 1]), 'cp': array([4, 4, 2, 4, 3]), 'trestbps': array([110, 126, 140, 140, 120]), 'chol': array([172, 282, 294, 239, 258]), 'fbs': array([0, 0, 0, 0, 0]), 'restecg': array([2, 2, 2, 0, 2]), 'thalach': array([158, 156, 153, 160, 147]), 'exang': array([0, 1, 0, 0, 0]), 'oldpeak': array([0. , 0. , 1.3, 1.2, 0.4]), 'slope': array([1, 1, 2, 1, 2]), 'ca': array([0, 0, 0, 0, 0]), 'thal': array([b'reversible', b'reversible', b'normal', b'normal', b'reversible'],\n",
            "      dtype=object)}, array([0, 0, 0, 0, 0])), ({'age': array([57, 47, 58, 66, 47]), 'sex': array([0, 1, 0, 0, 1]), 'cp': array([4, 4, 1, 3, 3]), 'trestbps': array([128, 112, 150, 146, 108]), 'chol': array([303, 204, 283, 278, 243]), 'fbs': array([0, 0, 1, 0, 0]), 'restecg': array([2, 0, 2, 2, 0]), 'thalach': array([159, 143, 162, 152, 152]), 'exang': array([0, 0, 0, 0, 0]), 'oldpeak': array([0. , 0.1, 1. , 0. , 0. ]), 'slope': array([1, 1, 1, 2, 1]), 'ca': array([1, 0, 0, 1, 0]), 'thal': array([b'normal', b'normal', b'normal', b'normal', b'normal'],\n",
            "      dtype=object)}, array([0, 0, 0, 0, 0])), ({'age': array([65, 56, 67, 57, 66]), 'sex': array([0, 0, 1, 1, 1]), 'cp': array([3, 4, 4, 4, 2]), 'trestbps': array([140, 134, 160, 165, 160]), 'chol': array([417, 409, 286, 289, 246]), 'fbs': array([1, 0, 0, 1, 0]), 'restecg': array([2, 2, 2, 2, 0]), 'thalach': array([157, 150, 108, 124, 120]), 'exang': array([0, 1, 1, 0, 1]), 'oldpeak': array([0.8, 1.9, 1.5, 1. , 0. ]), 'slope': array([1, 2, 2, 2, 2]), 'ca': array([1, 2, 3, 3, 3]), 'thal': array([b'normal', b'reversible', b'normal', b'reversible', b'fixed'],\n",
            "      dtype=object)}, array([0, 1, 1, 1, 1])), ({'age': array([56, 64, 65, 42, 58]), 'sex': array([0, 1, 0, 1, 1]), 'cp': array([4, 4, 4, 4, 3]), 'trestbps': array([200, 145, 150, 136, 132]), 'chol': array([288, 212, 225, 315, 224]), 'fbs': array([1, 0, 0, 0, 0]), 'restecg': array([2, 2, 2, 0, 2]), 'thalach': array([133, 132, 114, 125, 173]), 'exang': array([1, 0, 0, 1, 0]), 'oldpeak': array([4. , 2. , 1. , 1.8, 3.2]), 'slope': array([3, 2, 2, 2, 1]), 'ca': array([2, 2, 3, 0, 2]), 'thal': array([b'reversible', b'fixed', b'reversible', b'fixed', b'reversible'],\n",
            "      dtype=object)}, array([1, 1, 1, 1, 1])), ({'age': array([58, 58, 51, 51, 67]), 'sex': array([1, 1, 1, 0, 1]), 'cp': array([4, 4, 4, 4, 4]), 'trestbps': array([150, 100, 140, 130, 100]), 'chol': array([270, 234, 298, 305, 299]), 'fbs': array([0, 0, 0, 0, 0]), 'restecg': array([2, 0, 0, 0, 2]), 'thalach': array([111, 156, 122, 142, 125]), 'exang': array([1, 0, 1, 1, 1]), 'oldpeak': array([0.8, 0.1, 4.2, 1.2, 0.9]), 'slope': array([1, 1, 2, 2, 2]), 'ca': array([0, 1, 3, 0, 2]), 'thal': array([b'reversible', b'reversible', b'reversible', b'reversible',\n",
            "       b'normal'], dtype=object)}, array([1, 1, 1, 1, 1])), ({'age': array([54, 54, 49, 50, 57]), 'sex': array([1, 1, 1, 1, 1]), 'cp': array([4, 4, 3, 4, 4]), 'trestbps': array([120, 122, 120, 150, 110]), 'chol': array([188, 286, 188, 243, 335]), 'fbs': array([0, 0, 0, 0, 0]), 'restecg': array([0, 2, 0, 2, 0]), 'thalach': array([113, 116, 139, 128, 143]), 'exang': array([0, 1, 0, 0, 1]), 'oldpeak': array([1.4, 3.2, 2. , 2.6, 3. ]), 'slope': array([2, 2, 2, 2, 2]), 'ca': array([1, 2, 3, 0, 1]), 'thal': array([b'reversible', b'normal', b'reversible', b'reversible',\n",
            "       b'reversible'], dtype=object)}, array([1, 1, 1, 1, 1])), ({'age': array([66, 55, 44, 60, 61]), 'sex': array([0, 1, 1, 1, 1]), 'cp': array([4, 4, 4, 4, 1]), 'trestbps': array([178, 132, 120, 130, 134]), 'chol': array([228, 353, 169, 206, 234]), 'fbs': array([1, 0, 0, 0, 0]), 'restecg': array([0, 0, 0, 2, 0]), 'thalach': array([165, 132, 144, 132, 145]), 'exang': array([1, 1, 1, 1, 0]), 'oldpeak': array([1. , 1.2, 2.8, 2.4, 2.6]), 'slope': array([2, 2, 3, 2, 2]), 'ca': array([2, 1, 0, 2, 2]), 'thal': array([b'reversible', b'reversible', b'fixed', b'reversible', b'normal'],\n",
            "      dtype=object)}, array([1, 1, 1, 1, 1])), ({'age': array([62, 68, 54, 46, 63]), 'sex': array([0, 1, 1, 1, 1]), 'cp': array([4, 4, 4, 4, 4]), 'trestbps': array([138, 144, 110, 140, 130]), 'chol': array([294, 193, 206, 311, 330]), 'fbs': array([1, 1, 0, 0, 1]), 'restecg': array([0, 0, 2, 0, 2]), 'thalach': array([106, 141, 108, 120, 132]), 'exang': array([0, 0, 1, 1, 1]), 'oldpeak': array([1.9, 3.4, 0. , 1.8, 1.8]), 'slope': array([2, 2, 2, 2, 1]), 'ca': array([3, 2, 1, 2, 3]), 'thal': array([b'normal', b'reversible', b'normal', b'reversible', b'reversible'],\n",
            "      dtype=object)}, array([1, 1, 1, 1, 1])), ({'age': array([38, 63, 59, 60, 63]), 'sex': array([1, 1, 1, 1, 0]), 'cp': array([1, 4, 4, 4, 4]), 'trestbps': array([120, 140, 170, 117, 150]), 'chol': array([231, 187, 326, 230, 407]), 'fbs': array([0, 0, 0, 1, 0]), 'restecg': array([0, 2, 2, 0, 2]), 'thalach': array([182, 144, 140, 160, 154]), 'exang': array([1, 1, 1, 1, 0]), 'oldpeak': array([3.8, 4. , 3.4, 1.4, 4. ]), 'slope': array([2, 1, 3, 1, 2]), 'ca': array([0, 2, 0, 2, 3]), 'thal': array([b'reversible', b'reversible', b'reversible', b'reversible',\n",
            "       b'reversible'], dtype=object)}, array([1, 1, 1, 1, 1])), ({'age': array([59, 54, 44, 60, 55]), 'sex': array([1, 1, 1, 1, 0]), 'cp': array([3, 4, 4, 4, 4]), 'trestbps': array([126, 110, 112, 140, 180]), 'chol': array([218, 239, 290, 293, 327]), 'fbs': array([1, 0, 0, 0, 0]), 'restecg': array([0, 0, 2, 2, 1]), 'thalach': array([134, 126, 153, 170, 117]), 'exang': array([0, 1, 0, 0, 1]), 'oldpeak': array([2.2, 2.8, 0. , 1.2, 3.4]), 'slope': array([2, 2, 1, 2, 2]), 'ca': array([1, 1, 1, 2, 0]), 'thal': array([b'fixed', b'reversible', b'normal', b'reversible', b'normal'],\n",
            "      dtype=object)}, array([1, 1, 1, 1, 1])), ({'age': array([68, 61, 56, 55, 50]), 'sex': array([1, 1, 1, 1, 1]), 'cp': array([3, 4, 3, 4, 4]), 'trestbps': array([180, 148, 130, 140, 144]), 'chol': array([274, 203, 256, 217, 200]), 'fbs': array([1, 0, 1, 0, 0]), 'restecg': array([2, 0, 2, 0, 2]), 'thalach': array([150, 161, 142, 111, 126]), 'exang': array([1, 0, 1, 1, 1]), 'oldpeak': array([1.6, 0. , 0.6, 5.6, 0.9]), 'slope': array([2, 1, 2, 3, 2]), 'ca': array([0, 1, 1, 0, 0]), 'thal': array([b'reversible', b'reversible', b'fixed', b'reversible',\n",
            "       b'reversible'], dtype=object)}, array([1, 1, 1, 1, 1])), ({'age': array([43, 57, 40, 45, 59]), 'sex': array([1, 1, 1, 1, 1]), 'cp': array([4, 4, 4, 4, 4]), 'trestbps': array([120, 130, 110, 142, 140]), 'chol': array([177, 131, 167, 309, 177]), 'fbs': array([0, 0, 0, 0, 0]), 'restecg': array([2, 0, 2, 2, 0]), 'thalach': array([120, 115, 114, 147, 162]), 'exang': array([1, 1, 1, 1, 1]), 'oldpeak': array([2.5, 1.2, 2. , 0. , 0. ]), 'slope': array([2, 2, 2, 2, 1]), 'ca': array([0, 1, 0, 3, 1]), 'thal': array([b'reversible', b'reversible', b'reversible', b'reversible',\n",
            "       b'reversible'], dtype=object)}, array([1, 1, 1, 1, 1])), ({'age': array([58, 52, 56, 48, 62]), 'sex': array([1, 1, 1, 1, 0]), 'cp': array([3, 4, 4, 4, 3]), 'trestbps': array([112, 125, 130, 130, 130]), 'chol': array([230, 212, 283, 256, 263]), 'fbs': array([0, 0, 1, 1, 0]), 'restecg': array([2, 0, 2, 2, 0]), 'thalach': array([165, 168, 103, 150,  97]), 'exang': array([0, 0, 1, 1, 0]), 'oldpeak': array([2.5, 1. , 1.6, 0. , 1.2]), 'slope': array([2, 1, 3, 1, 2]), 'ca': array([1, 2, 0, 2, 1]), 'thal': array([b'reversible', b'reversible', b'reversible', b'reversible',\n",
            "       b'reversible'], dtype=object)}, array([1, 1, 1, 1, 1])), ({'age': array([70, 53, 77, 67, 64]), 'sex': array([1, 1, 1, 1, 1]), 'cp': array([3, 4, 4, 4, 4]), 'trestbps': array([160, 123, 125, 120, 120]), 'chol': array([269, 282, 304, 237, 246]), 'fbs': array([0, 0, 0, 0, 0]), 'restecg': array([0, 0, 2, 0, 2]), 'thalach': array([112,  95, 162,  71,  96]), 'exang': array([1, 1, 1, 0, 1]), 'oldpeak': array([2.9, 2. , 0. , 1. , 2.2]), 'slope': array([2, 2, 1, 2, 3]), 'ca': array([1, 2, 3, 0, 1]), 'thal': array([b'reversible', b'reversible', b'normal', b'normal', b'normal'],\n",
            "      dtype=object)}, array([1, 1, 1, 1, 1])), ({'age': array([66, 43, 59, 55, 67]), 'sex': array([1, 0, 1, 0, 1]), 'cp': array([4, 4, 4, 4, 4]), 'trestbps': array([112, 132, 110, 128, 125]), 'chol': array([212, 341, 239, 205, 254]), 'fbs': array([0, 1, 0, 0, 1]), 'restecg': array([2, 2, 2, 1, 0]), 'thalach': array([132, 136, 142, 130, 163]), 'exang': array([1, 1, 1, 1, 0]), 'oldpeak': array([0.1, 3. , 1.2, 2. , 0.2]), 'slope': array([1, 2, 2, 2, 2]), 'ca': array([1, 0, 1, 1, 2]), 'thal': array([b'normal', b'reversible', b'reversible', b'reversible',\n",
            "       b'reversible'], dtype=object)}, array([1, 1, 1, 1, 1])), ({'age': array([69, 39]), 'sex': array([1, 1]), 'cp': array([3, 4]), 'trestbps': array([140, 118]), 'chol': array([254, 219]), 'fbs': array([0, 0]), 'restecg': array([2, 0]), 'thalach': array([146, 140]), 'exang': array([0, 0]), 'oldpeak': array([2. , 1.2]), 'slope': array([2, 2]), 'ca': array([3, 0]), 'thal': array([b'reversible', b'reversible'], dtype=object)}, array([1, 1]))]\n",
            "-----------------------------------------\n",
            "[({'age': array([67, 62, 63, 48, 58]), 'sex': array([1, 0, 1, 0, 0]), 'cp': array([4, 4, 4, 3, 3]), 'trestbps': array([120, 140, 130, 130, 120]), 'chol': array([229, 268, 254, 275, 340]), 'fbs': array([0, 0, 0, 0, 0]), 'restecg': array([2, 2, 2, 0, 0]), 'thalach': array([129, 160, 147, 139, 172]), 'exang': array([1, 0, 0, 0, 0]), 'oldpeak': array([2.6, 3.6, 1.4, 0.2, 0. ]), 'slope': array([2, 3, 2, 1, 1]), 'ca': array([2, 2, 1, 0, 0]), 'thal': array([b'reversible', b'normal', b'reversible', b'normal', b'normal'],\n",
            "      dtype=object)}, array([0, 1, 1, 0, 0])), ({'age': array([66, 48, 62, 44, 52]), 'sex': array([0, 1, 0, 0, 1]), 'cp': array([1, 2, 4, 3, 4]), 'trestbps': array([150, 130, 160, 108, 128]), 'chol': array([226, 245, 164, 141, 255]), 'fbs': array([0, 0, 0, 0, 0]), 'restecg': array([0, 2, 2, 0, 0]), 'thalach': array([114, 180, 145, 175, 161]), 'exang': array([0, 0, 0, 0, 1]), 'oldpeak': array([2.6, 0.2, 6.2, 0.6, 0. ]), 'slope': array([3, 2, 3, 2, 1]), 'ca': array([0, 0, 3, 0, 1]), 'thal': array([b'normal', b'normal', b'reversible', b'normal', b'reversible'],\n",
            "      dtype=object)}, array([0, 0, 1, 0, 0])), ({'age': array([58, 51, 44, 62, 43]), 'sex': array([1, 1, 1, 0, 0]), 'cp': array([3, 3, 2, 4, 3]), 'trestbps': array([140, 100, 120, 124, 122]), 'chol': array([211, 222, 220, 209, 213]), 'fbs': array([1, 0, 0, 0, 0]), 'restecg': array([2, 0, 0, 0, 0]), 'thalach': array([165, 143, 170, 163, 165]), 'exang': array([0, 1, 0, 0, 0]), 'oldpeak': array([0. , 1.2, 0. , 0. , 0.2]), 'slope': array([1, 2, 1, 1, 2]), 'ca': array([0, 0, 0, 0, 0]), 'thal': array([b'normal', b'normal', b'normal', b'normal', b'normal'],\n",
            "      dtype=object)}, array([0, 0, 0, 0, 0])), ({'age': array([70, 62, 58, 45, 55]), 'sex': array([1, 1, 1, 1, 1]), 'cp': array([4, 2, 3, 2, 4]), 'trestbps': array([145, 120, 105, 128, 160]), 'chol': array([174, 281, 240, 308, 289]), 'fbs': array([0, 0, 0, 0, 0]), 'restecg': array([0, 2, 2, 2, 2]), 'thalach': array([125, 103, 154, 170, 145]), 'exang': array([1, 0, 1, 0, 1]), 'oldpeak': array([2.6, 1.4, 0.6, 0. , 0.8]), 'slope': array([3, 2, 2, 1, 2]), 'ca': array([0, 1, 0, 0, 1]), 'thal': array([b'reversible', b'reversible', b'reversible', b'normal',\n",
            "       b'reversible'], dtype=object)}, array([1, 1, 0, 0, 1])), ({'age': array([57, 54, 59, 48, 42]), 'sex': array([1, 0, 0, 1, 1]), 'cp': array([4, 2, 4, 4, 1]), 'trestbps': array([132, 132, 174, 124, 148]), 'chol': array([207, 288, 249, 274, 244]), 'fbs': array([0, 1, 0, 0, 0]), 'restecg': array([0, 2, 0, 2, 2]), 'thalach': array([168, 159, 143, 166, 178]), 'exang': array([1, 1, 1, 0, 0]), 'oldpeak': array([0. , 0. , 0. , 0.5, 0.8]), 'slope': array([1, 1, 2, 2, 1]), 'ca': array([0, 1, 0, 0, 2]), 'thal': array([b'reversible', b'normal', b'normal', b'reversible', b'normal'],\n",
            "      dtype=object)}, array([0, 0, 0, 1, 0])), ({'age': array([63, 42, 68, 69, 58]), 'sex': array([0, 1, 0, 1, 1]), 'cp': array([2, 3, 3, 1, 4]), 'trestbps': array([140, 120, 120, 160, 128]), 'chol': array([195, 240, 211, 234, 259]), 'fbs': array([0, 1, 0, 1, 0]), 'restecg': array([0, 0, 2, 2, 2]), 'thalach': array([179, 194, 115, 131, 130]), 'exang': array([0, 0, 0, 0, 1]), 'oldpeak': array([0. , 0.8, 1.5, 0.1, 3. ]), 'slope': array([1, 3, 2, 2, 2]), 'ca': array([2, 0, 0, 1, 2]), 'thal': array([b'normal', b'reversible', b'normal', b'normal', b'reversible'],\n",
            "      dtype=object)}, array([0, 0, 0, 0, 1])), ({'age': array([55, 56, 63, 34, 49]), 'sex': array([1, 1, 0, 0, 1]), 'cp': array([2, 1, 4, 2, 3]), 'trestbps': array([130, 120, 108, 118, 118]), 'chol': array([262, 193, 269, 210, 149]), 'fbs': array([0, 0, 0, 0, 0]), 'restecg': array([0, 2, 0, 0, 2]), 'thalach': array([155, 162, 169, 192, 126]), 'exang': array([0, 0, 1, 0, 0]), 'oldpeak': array([0. , 1.9, 1.8, 0.7, 0.8]), 'slope': array([1, 2, 2, 1, 1]), 'ca': array([0, 0, 2, 0, 3]), 'thal': array([b'normal', b'reversible', b'normal', b'normal', b'normal'],\n",
            "      dtype=object)}, array([0, 0, 0, 0, 0])), ({'age': array([51, 42, 58, 60, 61]), 'sex': array([0, 0, 0, 0, 1]), 'cp': array([3, 3, 2, 1, 4]), 'trestbps': array([120, 120, 136, 150, 138]), 'chol': array([295, 209, 319, 240, 166]), 'fbs': array([0, 0, 1, 0, 0]), 'restecg': array([2, 0, 2, 0, 2]), 'thalach': array([157, 173, 152, 171, 125]), 'exang': array([0, 0, 0, 0, 1]), 'oldpeak': array([0.6, 0. , 0. , 0.9, 3.6]), 'slope': array([1, 2, 1, 1, 2]), 'ca': array([0, 0, 2, 0, 1]), 'thal': array([b'normal', b'normal', b'normal', b'normal', b'normal'],\n",
            "      dtype=object)}, array([0, 0, 1, 0, 1])), ({'age': array([42, 58, 58, 58, 67]), 'sex': array([1, 0, 1, 0, 1]), 'cp': array([3, 4, 4, 4, 3]), 'trestbps': array([130, 130, 114, 170, 152]), 'chol': array([180, 197, 318, 225, 212]), 'fbs': array([0, 0, 0, 1, 0]), 'restecg': array([0, 0, 1, 2, 2]), 'thalach': array([150, 131, 140, 146, 150]), 'exang': array([0, 0, 0, 1, 0]), 'oldpeak': array([0. , 0.6, 4.4, 2.8, 0.8]), 'slope': array([1, 2, 3, 2, 2]), 'ca': array([0, 0, 3, 2, 0]), 'thal': array([b'normal', b'normal', b'fixed', b'fixed', b'reversible'],\n",
            "      dtype=object)}, array([0, 0, 1, 1, 0])), ({'age': array([59, 45, 57, 40, 71]), 'sex': array([1, 1, 0, 1, 0]), 'cp': array([4, 1, 0, 1, 2]), 'trestbps': array([164, 110, 140, 140, 160]), 'chol': array([176, 264, 241, 199, 302]), 'fbs': array([1, 0, 0, 0, 0]), 'restecg': array([2, 0, 1, 0, 0]), 'thalach': array([ 90, 132, 123, 178, 162]), 'exang': array([0, 0, 1, 1, 0]), 'oldpeak': array([1. , 1.2, 0.2, 1.4, 0.4]), 'slope': array([2, 2, 1, 1, 1]), 'ca': array([2, 0, 0, 0, 2]), 'thal': array([b'fixed', b'reversible', b'normal', b'reversible', b'normal'],\n",
            "      dtype=object)}, array([1, 0, 0, 0, 0])), ({'age': array([51, 51, 60, 54, 46]), 'sex': array([1, 1, 1, 1, 1]), 'cp': array([3, 1, 4, 3, 3]), 'trestbps': array([110, 125, 145, 150, 150]), 'chol': array([175, 213, 282, 232, 231]), 'fbs': array([0, 0, 0, 0, 0]), 'restecg': array([0, 2, 2, 2, 0]), 'thalach': array([123, 125, 142, 165, 147]), 'exang': array([0, 1, 1, 0, 0]), 'oldpeak': array([0.6, 1.4, 2.8, 1.6, 3.6]), 'slope': array([1, 1, 2, 1, 2]), 'ca': array([0, 1, 2, 0, 0]), 'thal': array([b'normal', b'normal', b'reversible', b'reversible', b'normal'],\n",
            "      dtype=object)}, array([0, 0, 1, 0, 0])), ({'age': array([60, 34, 57, 61, 52]), 'sex': array([0, 1, 1, 1, 1]), 'cp': array([4, 1, 3, 4, 1]), 'trestbps': array([150, 118, 128, 120, 118]), 'chol': array([258, 182, 229, 260, 186]), 'fbs': array([0, 0, 0, 0, 0]), 'restecg': array([2, 2, 2, 0, 2]), 'thalach': array([157, 174, 150, 140, 190]), 'exang': array([0, 0, 0, 1, 0]), 'oldpeak': array([2.6, 0. , 0.4, 3.6, 0. ]), 'slope': array([2, 1, 2, 2, 2]), 'ca': array([2, 0, 1, 1, 0]), 'thal': array([b'reversible', b'normal', b'reversible', b'reversible', b'fixed'],\n",
            "      dtype=object)}, array([1, 0, 0, 1, 0])), ({'age': array([65]), 'sex': array([1]), 'cp': array([4]), 'trestbps': array([135]), 'chol': array([254]), 'fbs': array([0]), 'restecg': array([2]), 'thalach': array([127]), 'exang': array([0]), 'oldpeak': array([2.8]), 'slope': array([2]), 'ca': array([1]), 'thal': array([b'reversible'], dtype=object)}, array([1]))]\n"
          ]
        }
      ],
      "source": [
        "'''\n",
        "batch function\n",
        "batch(\n",
        "    batch_size,\n",
        "    drop_remainder=False,\n",
        "    num_parallel_calls=None,\n",
        "    deterministic=None,\n",
        "    name=None\n",
        ")\n",
        "\n",
        "'''\n",
        "### - Size of batch ??\n",
        "## YOUR CODE HERE  ## For train\n",
        "#train_ds = train_ds.unbatch()\n",
        "batch_size = 5 #No of elements in a batch\n",
        "\n",
        "\n",
        "train_ds = train_ds.batch(batch_size)\n",
        "train_ds= train_ds.prefetch(batch_size)\n",
        "result = list(train_ds.as_numpy_iterator())\n",
        "print(result)\n",
        "print('-----------------------------------------')\n",
        "\n",
        "## YOUR CODE HERE  ## For val\n",
        "#val_ds = val_ds.unbatch()\n",
        "val_ds = val_ds.batch(batch_size)\n",
        "val_ds = val_ds.prefetch(batch_size)\n",
        "result = list(val_ds.as_numpy_iterator())\n",
        "print(result)"
      ]
    },
    {
      "cell_type": "markdown",
      "source": [
        "## Feature preprocessing with Keras layers [3 Marks]"
      ],
      "metadata": {
        "id": "DgY1sXyn43g3"
      }
    },
    {
      "cell_type": "markdown",
      "source": [
        "### Categorical Features Encoding"
      ],
      "metadata": {
        "id": "kDHb-mam8Aw-"
      }
    },
    {
      "cell_type": "markdown",
      "source": [
        "The following features are categorical features encoded as integers:\n",
        "\n",
        "- `sex`\n",
        "- `cp`\n",
        "- `fbs`\n",
        "- `restecg`\n",
        "- `exang`\n",
        "- `ca`"
      ],
      "metadata": {
        "id": "PYQu-1Gl46a1"
      }
    },
    {
      "cell_type": "code",
      "source": [
        "#Sex"
      ],
      "metadata": {
        "id": "Kn01rIY9EGU9"
      },
      "execution_count": null,
      "outputs": []
    },
    {
      "cell_type": "markdown",
      "source": [
        "We will encode these features using **one-hot encoding**. We have two options\n",
        "here:\n",
        "\n",
        " - Use `CategoryEncoding()`, which requires knowing the range of input values\n",
        " and will throw an error on input outside the range.\n",
        " - Use `IntegerLookup()` which will build a lookup table for inputs and **reserve\n",
        " an output index for unkown input values**.\n",
        "\n",
        "For this example, we want a simple solution that will handle out of range inputs\n",
        "at inference, so we will use `IntegerLookup()`.\n",
        "\n",
        "We also have a categorical feature encoded as a string: `thal`. We will create an\n",
        "index of all possible features and encode output using the `StringLookup()` layer."
      ],
      "metadata": {
        "id": "FC9vOfeA796e"
      }
    },
    {
      "cell_type": "markdown",
      "source": [
        "Create a function `encode_categorical_feature`, this function takes four parameters.\n",
        "1. Feature to be encoded.\n",
        "2. Name of the feature in the dataset.\n",
        "3. Dataset containing the feature.\n",
        "4. A boolean value wether the feature is string or not."
      ],
      "metadata": {
        "id": "LBPnzKnA_F1g"
      }
    },
    {
      "cell_type": "markdown",
      "source": [
        "**Refer :** StringLookup [here](https://www.tensorflow.org/api_docs/python/tf/keras/layers/StringLookup) and IntegerLookup [here](https://www.tensorflow.org/api_docs/python/tf/keras/layers/IntegerLookup)."
      ],
      "metadata": {
        "id": "5c71RPyG-oMf"
      }
    },
    {
      "cell_type": "code",
      "source": [
        "def encode_categorical_feature(feature, name, dataset, is_string):\n",
        "\n",
        "    #vocab = sorted(set(dataset[feature]))\n",
        "    #print(f'name: {name}')\n",
        "    #print(f'vocab: {vocab}\\n')\n",
        "    ## YOUR CODE HERE\n",
        "    # Create a lookup layer which will turn strings into integer indices\n",
        "    ## YOUR CODE HERE\n",
        "    if is_string:\n",
        "        lookup = tf.keras.layers.StringLookup(output_mode='one_hot')\n",
        "    else:\n",
        "        lookup = tf.keras.layers.IntegerLookup(output_mode='one_hot')\n",
        "    # Prepare a Dataset that only yields our feature\n",
        "    ## YOUR CODE HERE\n",
        "\n",
        "    feature_ds = dataset.map(lambda x, y: x[name]) #extract the column out from the tensor\n",
        "    feature_ds = feature_ds.map(lambda x: tf.expand_dims(x, -1)) #expand the dimensions since the adapt() assumes each row to be a sample\n",
        "\n",
        "    # Learn the set of possible string values and assign them a fixed integer index\n",
        "    ## YOUR CODE HERE\n",
        "    # if using vocab no need to use adapt\n",
        "    lookup.adapt(feature_ds)\n",
        "\n",
        "    # Turn the string input into integer indices\n",
        "    ## YOUR CODE HERE\n",
        "    encoded_feature = lookup(feature)\n",
        "    return encoded_feature\n"
      ],
      "metadata": {
        "id": "drcy1lla5G9n"
      },
      "execution_count": 14,
      "outputs": []
    },
    {
      "cell_type": "markdown",
      "source": [
        "#### Below illustration is to understand how the one hot encoding is applied"
      ],
      "metadata": {
        "id": "y7WqZ_DXf_CH"
      }
    },
    {
      "cell_type": "code",
      "source": [
        "list(train_ds)[0]"
      ],
      "metadata": {
        "colab": {
          "base_uri": "https://localhost:8080/"
        },
        "id": "-LL2MtUSaYcB",
        "outputId": "ecf01386-81d2-40ea-8777-c83b64c5e125"
      },
      "execution_count": 15,
      "outputs": [
        {
          "output_type": "execute_result",
          "data": {
            "text/plain": [
              "({'age': <tf.Tensor: shape=(5,), dtype=int64, numpy=array([67, 64, 62, 57, 49])>,\n",
              "  'sex': <tf.Tensor: shape=(5,), dtype=int64, numpy=array([0, 1, 0, 0, 1])>,\n",
              "  'cp': <tf.Tensor: shape=(5,), dtype=int64, numpy=array([3, 4, 4, 2, 2])>,\n",
              "  'trestbps': <tf.Tensor: shape=(5,), dtype=int64, numpy=array([152, 128, 140, 130, 130])>,\n",
              "  'chol': <tf.Tensor: shape=(5,), dtype=int64, numpy=array([277, 263, 394, 236, 266])>,\n",
              "  'fbs': <tf.Tensor: shape=(5,), dtype=int64, numpy=array([0, 0, 0, 0, 0])>,\n",
              "  'restecg': <tf.Tensor: shape=(5,), dtype=int64, numpy=array([0, 0, 2, 2, 0])>,\n",
              "  'thalach': <tf.Tensor: shape=(5,), dtype=int64, numpy=array([172, 105, 157, 174, 171])>,\n",
              "  'exang': <tf.Tensor: shape=(5,), dtype=int64, numpy=array([0, 1, 0, 0, 0])>,\n",
              "  'oldpeak': <tf.Tensor: shape=(5,), dtype=float64, numpy=array([0. , 0.2, 1.2, 0. , 0.6])>,\n",
              "  'slope': <tf.Tensor: shape=(5,), dtype=int64, numpy=array([1, 2, 2, 2, 1])>,\n",
              "  'ca': <tf.Tensor: shape=(5,), dtype=int64, numpy=array([1, 1, 0, 1, 0])>,\n",
              "  'thal': <tf.Tensor: shape=(5,), dtype=string, numpy=\n",
              "  array([b'normal', b'reversible', b'normal', b'normal', b'normal'],\n",
              "        dtype=object)>},\n",
              " <tf.Tensor: shape=(5,), dtype=int64, numpy=array([0, 0, 0, 0, 0])>)"
            ]
          },
          "metadata": {},
          "execution_count": 15
        }
      ]
    },
    {
      "cell_type": "code",
      "source": [
        "list(train_ds)[0][1] #Extract the Sex column from the batch"
      ],
      "metadata": {
        "colab": {
          "base_uri": "https://localhost:8080/"
        },
        "id": "KhMK7DfQck5U",
        "outputId": "50b12e9a-147f-4eab-f170-9221bac22a50"
      },
      "execution_count": 16,
      "outputs": [
        {
          "output_type": "execute_result",
          "data": {
            "text/plain": [
              "<tf.Tensor: shape=(5,), dtype=int64, numpy=array([0, 0, 0, 0, 0])>"
            ]
          },
          "metadata": {},
          "execution_count": 16
        }
      ]
    },
    {
      "cell_type": "code",
      "source": [
        "feature_ds = train_ds.map(lambda x, y: x['sex']) #Lambda in the function performing the above to output a map obj\n",
        "list(feature_ds)"
      ],
      "metadata": {
        "colab": {
          "base_uri": "https://localhost:8080/"
        },
        "id": "gqVP7IJMbMX-",
        "outputId": "73d90786-1f59-4046-b44e-200b75e6c16d"
      },
      "execution_count": 17,
      "outputs": [
        {
          "output_type": "execute_result",
          "data": {
            "text/plain": [
              "[<tf.Tensor: shape=(5,), dtype=int64, numpy=array([0, 1, 0, 0, 1])>,\n",
              " <tf.Tensor: shape=(5,), dtype=int64, numpy=array([1, 1, 1, 0, 0])>,\n",
              " <tf.Tensor: shape=(5,), dtype=int64, numpy=array([1, 0, 0, 1, 1])>,\n",
              " <tf.Tensor: shape=(5,), dtype=int64, numpy=array([1, 0, 1, 1, 1])>,\n",
              " <tf.Tensor: shape=(5,), dtype=int64, numpy=array([1, 1, 1, 1, 0])>,\n",
              " <tf.Tensor: shape=(5,), dtype=int64, numpy=array([1, 1, 1, 0, 1])>,\n",
              " <tf.Tensor: shape=(5,), dtype=int64, numpy=array([0, 1, 0, 1, 1])>,\n",
              " <tf.Tensor: shape=(5,), dtype=int64, numpy=array([0, 1, 0, 0, 0])>,\n",
              " <tf.Tensor: shape=(5,), dtype=int64, numpy=array([1, 1, 1, 1, 1])>,\n",
              " <tf.Tensor: shape=(5,), dtype=int64, numpy=array([0, 1, 1, 0, 1])>,\n",
              " <tf.Tensor: shape=(5,), dtype=int64, numpy=array([1, 1, 1, 1, 1])>,\n",
              " <tf.Tensor: shape=(5,), dtype=int64, numpy=array([1, 0, 1, 0, 1])>,\n",
              " <tf.Tensor: shape=(5,), dtype=int64, numpy=array([1, 0, 1, 0, 0])>,\n",
              " <tf.Tensor: shape=(5,), dtype=int64, numpy=array([0, 0, 1, 0, 0])>,\n",
              " <tf.Tensor: shape=(5,), dtype=int64, numpy=array([1, 1, 1, 1, 1])>,\n",
              " <tf.Tensor: shape=(5,), dtype=int64, numpy=array([1, 0, 1, 1, 1])>,\n",
              " <tf.Tensor: shape=(5,), dtype=int64, numpy=array([0, 1, 1, 1, 0])>,\n",
              " <tf.Tensor: shape=(5,), dtype=int64, numpy=array([0, 0, 1, 1, 1])>,\n",
              " <tf.Tensor: shape=(5,), dtype=int64, numpy=array([1, 1, 1, 0, 1])>,\n",
              " <tf.Tensor: shape=(5,), dtype=int64, numpy=array([0, 0, 0, 0, 1])>,\n",
              " <tf.Tensor: shape=(5,), dtype=int64, numpy=array([1, 0, 1, 1, 1])>,\n",
              " <tf.Tensor: shape=(5,), dtype=int64, numpy=array([1, 0, 1, 1, 0])>,\n",
              " <tf.Tensor: shape=(5,), dtype=int64, numpy=array([1, 1, 1, 0, 1])>,\n",
              " <tf.Tensor: shape=(5,), dtype=int64, numpy=array([0, 1, 1, 1, 1])>,\n",
              " <tf.Tensor: shape=(5,), dtype=int64, numpy=array([0, 1, 0, 1, 1])>,\n",
              " <tf.Tensor: shape=(5,), dtype=int64, numpy=array([1, 0, 1, 0, 1])>,\n",
              " <tf.Tensor: shape=(5,), dtype=int64, numpy=array([0, 1, 1, 0, 0])>,\n",
              " <tf.Tensor: shape=(5,), dtype=int64, numpy=array([0, 1, 0, 0, 1])>,\n",
              " <tf.Tensor: shape=(5,), dtype=int64, numpy=array([1, 1, 0, 1, 1])>,\n",
              " <tf.Tensor: shape=(5,), dtype=int64, numpy=array([1, 1, 1, 1, 0])>,\n",
              " <tf.Tensor: shape=(5,), dtype=int64, numpy=array([0, 1, 0, 0, 1])>,\n",
              " <tf.Tensor: shape=(5,), dtype=int64, numpy=array([1, 1, 0, 1, 0])>,\n",
              " <tf.Tensor: shape=(5,), dtype=int64, numpy=array([1, 1, 1, 1, 1])>,\n",
              " <tf.Tensor: shape=(5,), dtype=int64, numpy=array([1, 1, 0, 1, 1])>,\n",
              " <tf.Tensor: shape=(5,), dtype=int64, numpy=array([0, 1, 0, 0, 1])>,\n",
              " <tf.Tensor: shape=(5,), dtype=int64, numpy=array([0, 0, 1, 1, 1])>,\n",
              " <tf.Tensor: shape=(5,), dtype=int64, numpy=array([0, 1, 0, 1, 1])>,\n",
              " <tf.Tensor: shape=(5,), dtype=int64, numpy=array([1, 1, 1, 0, 1])>,\n",
              " <tf.Tensor: shape=(5,), dtype=int64, numpy=array([1, 1, 1, 1, 1])>,\n",
              " <tf.Tensor: shape=(5,), dtype=int64, numpy=array([0, 1, 1, 1, 1])>,\n",
              " <tf.Tensor: shape=(5,), dtype=int64, numpy=array([0, 1, 1, 1, 1])>,\n",
              " <tf.Tensor: shape=(5,), dtype=int64, numpy=array([1, 1, 1, 1, 0])>,\n",
              " <tf.Tensor: shape=(5,), dtype=int64, numpy=array([1, 1, 1, 1, 0])>,\n",
              " <tf.Tensor: shape=(5,), dtype=int64, numpy=array([1, 1, 1, 1, 1])>,\n",
              " <tf.Tensor: shape=(5,), dtype=int64, numpy=array([1, 1, 1, 1, 1])>,\n",
              " <tf.Tensor: shape=(5,), dtype=int64, numpy=array([1, 1, 1, 1, 0])>,\n",
              " <tf.Tensor: shape=(5,), dtype=int64, numpy=array([1, 1, 1, 1, 1])>,\n",
              " <tf.Tensor: shape=(5,), dtype=int64, numpy=array([1, 0, 1, 0, 1])>,\n",
              " <tf.Tensor: shape=(2,), dtype=int64, numpy=array([1, 1])>]"
            ]
          },
          "metadata": {},
          "execution_count": 17
        }
      ]
    },
    {
      "cell_type": "code",
      "source": [
        "feature_ds = feature_ds.map(lambda x: tf.expand_dims(x, -1)) #Converting into (n,1) dimension\n",
        "list(feature_ds)"
      ],
      "metadata": {
        "colab": {
          "base_uri": "https://localhost:8080/"
        },
        "id": "HIpnibzJc-gK",
        "outputId": "64d4bf20-e2ff-441d-8813-a195637b931a"
      },
      "execution_count": 19,
      "outputs": [
        {
          "output_type": "execute_result",
          "data": {
            "text/plain": [
              "[<tf.Tensor: shape=(5, 1, 1), dtype=int64, numpy=\n",
              " array([[[0]],\n",
              " \n",
              "        [[1]],\n",
              " \n",
              "        [[0]],\n",
              " \n",
              "        [[0]],\n",
              " \n",
              "        [[1]]])>,\n",
              " <tf.Tensor: shape=(5, 1, 1), dtype=int64, numpy=\n",
              " array([[[1]],\n",
              " \n",
              "        [[1]],\n",
              " \n",
              "        [[1]],\n",
              " \n",
              "        [[0]],\n",
              " \n",
              "        [[0]]])>,\n",
              " <tf.Tensor: shape=(5, 1, 1), dtype=int64, numpy=\n",
              " array([[[1]],\n",
              " \n",
              "        [[0]],\n",
              " \n",
              "        [[0]],\n",
              " \n",
              "        [[1]],\n",
              " \n",
              "        [[1]]])>,\n",
              " <tf.Tensor: shape=(5, 1, 1), dtype=int64, numpy=\n",
              " array([[[1]],\n",
              " \n",
              "        [[0]],\n",
              " \n",
              "        [[1]],\n",
              " \n",
              "        [[1]],\n",
              " \n",
              "        [[1]]])>,\n",
              " <tf.Tensor: shape=(5, 1, 1), dtype=int64, numpy=\n",
              " array([[[1]],\n",
              " \n",
              "        [[1]],\n",
              " \n",
              "        [[1]],\n",
              " \n",
              "        [[1]],\n",
              " \n",
              "        [[0]]])>,\n",
              " <tf.Tensor: shape=(5, 1, 1), dtype=int64, numpy=\n",
              " array([[[1]],\n",
              " \n",
              "        [[1]],\n",
              " \n",
              "        [[1]],\n",
              " \n",
              "        [[0]],\n",
              " \n",
              "        [[1]]])>,\n",
              " <tf.Tensor: shape=(5, 1, 1), dtype=int64, numpy=\n",
              " array([[[0]],\n",
              " \n",
              "        [[1]],\n",
              " \n",
              "        [[0]],\n",
              " \n",
              "        [[1]],\n",
              " \n",
              "        [[1]]])>,\n",
              " <tf.Tensor: shape=(5, 1, 1), dtype=int64, numpy=\n",
              " array([[[0]],\n",
              " \n",
              "        [[1]],\n",
              " \n",
              "        [[0]],\n",
              " \n",
              "        [[0]],\n",
              " \n",
              "        [[0]]])>,\n",
              " <tf.Tensor: shape=(5, 1, 1), dtype=int64, numpy=\n",
              " array([[[1]],\n",
              " \n",
              "        [[1]],\n",
              " \n",
              "        [[1]],\n",
              " \n",
              "        [[1]],\n",
              " \n",
              "        [[1]]])>,\n",
              " <tf.Tensor: shape=(5, 1, 1), dtype=int64, numpy=\n",
              " array([[[0]],\n",
              " \n",
              "        [[1]],\n",
              " \n",
              "        [[1]],\n",
              " \n",
              "        [[0]],\n",
              " \n",
              "        [[1]]])>,\n",
              " <tf.Tensor: shape=(5, 1, 1), dtype=int64, numpy=\n",
              " array([[[1]],\n",
              " \n",
              "        [[1]],\n",
              " \n",
              "        [[1]],\n",
              " \n",
              "        [[1]],\n",
              " \n",
              "        [[1]]])>,\n",
              " <tf.Tensor: shape=(5, 1, 1), dtype=int64, numpy=\n",
              " array([[[1]],\n",
              " \n",
              "        [[0]],\n",
              " \n",
              "        [[1]],\n",
              " \n",
              "        [[0]],\n",
              " \n",
              "        [[1]]])>,\n",
              " <tf.Tensor: shape=(5, 1, 1), dtype=int64, numpy=\n",
              " array([[[1]],\n",
              " \n",
              "        [[0]],\n",
              " \n",
              "        [[1]],\n",
              " \n",
              "        [[0]],\n",
              " \n",
              "        [[0]]])>,\n",
              " <tf.Tensor: shape=(5, 1, 1), dtype=int64, numpy=\n",
              " array([[[0]],\n",
              " \n",
              "        [[0]],\n",
              " \n",
              "        [[1]],\n",
              " \n",
              "        [[0]],\n",
              " \n",
              "        [[0]]])>,\n",
              " <tf.Tensor: shape=(5, 1, 1), dtype=int64, numpy=\n",
              " array([[[1]],\n",
              " \n",
              "        [[1]],\n",
              " \n",
              "        [[1]],\n",
              " \n",
              "        [[1]],\n",
              " \n",
              "        [[1]]])>,\n",
              " <tf.Tensor: shape=(5, 1, 1), dtype=int64, numpy=\n",
              " array([[[1]],\n",
              " \n",
              "        [[0]],\n",
              " \n",
              "        [[1]],\n",
              " \n",
              "        [[1]],\n",
              " \n",
              "        [[1]]])>,\n",
              " <tf.Tensor: shape=(5, 1, 1), dtype=int64, numpy=\n",
              " array([[[0]],\n",
              " \n",
              "        [[1]],\n",
              " \n",
              "        [[1]],\n",
              " \n",
              "        [[1]],\n",
              " \n",
              "        [[0]]])>,\n",
              " <tf.Tensor: shape=(5, 1, 1), dtype=int64, numpy=\n",
              " array([[[0]],\n",
              " \n",
              "        [[0]],\n",
              " \n",
              "        [[1]],\n",
              " \n",
              "        [[1]],\n",
              " \n",
              "        [[1]]])>,\n",
              " <tf.Tensor: shape=(5, 1, 1), dtype=int64, numpy=\n",
              " array([[[1]],\n",
              " \n",
              "        [[1]],\n",
              " \n",
              "        [[1]],\n",
              " \n",
              "        [[0]],\n",
              " \n",
              "        [[1]]])>,\n",
              " <tf.Tensor: shape=(5, 1, 1), dtype=int64, numpy=\n",
              " array([[[0]],\n",
              " \n",
              "        [[0]],\n",
              " \n",
              "        [[0]],\n",
              " \n",
              "        [[0]],\n",
              " \n",
              "        [[1]]])>,\n",
              " <tf.Tensor: shape=(5, 1, 1), dtype=int64, numpy=\n",
              " array([[[1]],\n",
              " \n",
              "        [[0]],\n",
              " \n",
              "        [[1]],\n",
              " \n",
              "        [[1]],\n",
              " \n",
              "        [[1]]])>,\n",
              " <tf.Tensor: shape=(5, 1, 1), dtype=int64, numpy=\n",
              " array([[[1]],\n",
              " \n",
              "        [[0]],\n",
              " \n",
              "        [[1]],\n",
              " \n",
              "        [[1]],\n",
              " \n",
              "        [[0]]])>,\n",
              " <tf.Tensor: shape=(5, 1, 1), dtype=int64, numpy=\n",
              " array([[[1]],\n",
              " \n",
              "        [[1]],\n",
              " \n",
              "        [[1]],\n",
              " \n",
              "        [[0]],\n",
              " \n",
              "        [[1]]])>,\n",
              " <tf.Tensor: shape=(5, 1, 1), dtype=int64, numpy=\n",
              " array([[[0]],\n",
              " \n",
              "        [[1]],\n",
              " \n",
              "        [[1]],\n",
              " \n",
              "        [[1]],\n",
              " \n",
              "        [[1]]])>,\n",
              " <tf.Tensor: shape=(5, 1, 1), dtype=int64, numpy=\n",
              " array([[[0]],\n",
              " \n",
              "        [[1]],\n",
              " \n",
              "        [[0]],\n",
              " \n",
              "        [[1]],\n",
              " \n",
              "        [[1]]])>,\n",
              " <tf.Tensor: shape=(5, 1, 1), dtype=int64, numpy=\n",
              " array([[[1]],\n",
              " \n",
              "        [[0]],\n",
              " \n",
              "        [[1]],\n",
              " \n",
              "        [[0]],\n",
              " \n",
              "        [[1]]])>,\n",
              " <tf.Tensor: shape=(5, 1, 1), dtype=int64, numpy=\n",
              " array([[[0]],\n",
              " \n",
              "        [[1]],\n",
              " \n",
              "        [[1]],\n",
              " \n",
              "        [[0]],\n",
              " \n",
              "        [[0]]])>,\n",
              " <tf.Tensor: shape=(5, 1, 1), dtype=int64, numpy=\n",
              " array([[[0]],\n",
              " \n",
              "        [[1]],\n",
              " \n",
              "        [[0]],\n",
              " \n",
              "        [[0]],\n",
              " \n",
              "        [[1]]])>,\n",
              " <tf.Tensor: shape=(5, 1, 1), dtype=int64, numpy=\n",
              " array([[[1]],\n",
              " \n",
              "        [[1]],\n",
              " \n",
              "        [[0]],\n",
              " \n",
              "        [[1]],\n",
              " \n",
              "        [[1]]])>,\n",
              " <tf.Tensor: shape=(5, 1, 1), dtype=int64, numpy=\n",
              " array([[[1]],\n",
              " \n",
              "        [[1]],\n",
              " \n",
              "        [[1]],\n",
              " \n",
              "        [[1]],\n",
              " \n",
              "        [[0]]])>,\n",
              " <tf.Tensor: shape=(5, 1, 1), dtype=int64, numpy=\n",
              " array([[[0]],\n",
              " \n",
              "        [[1]],\n",
              " \n",
              "        [[0]],\n",
              " \n",
              "        [[0]],\n",
              " \n",
              "        [[1]]])>,\n",
              " <tf.Tensor: shape=(5, 1, 1), dtype=int64, numpy=\n",
              " array([[[1]],\n",
              " \n",
              "        [[1]],\n",
              " \n",
              "        [[0]],\n",
              " \n",
              "        [[1]],\n",
              " \n",
              "        [[0]]])>,\n",
              " <tf.Tensor: shape=(5, 1, 1), dtype=int64, numpy=\n",
              " array([[[1]],\n",
              " \n",
              "        [[1]],\n",
              " \n",
              "        [[1]],\n",
              " \n",
              "        [[1]],\n",
              " \n",
              "        [[1]]])>,\n",
              " <tf.Tensor: shape=(5, 1, 1), dtype=int64, numpy=\n",
              " array([[[1]],\n",
              " \n",
              "        [[1]],\n",
              " \n",
              "        [[0]],\n",
              " \n",
              "        [[1]],\n",
              " \n",
              "        [[1]]])>,\n",
              " <tf.Tensor: shape=(5, 1, 1), dtype=int64, numpy=\n",
              " array([[[0]],\n",
              " \n",
              "        [[1]],\n",
              " \n",
              "        [[0]],\n",
              " \n",
              "        [[0]],\n",
              " \n",
              "        [[1]]])>,\n",
              " <tf.Tensor: shape=(5, 1, 1), dtype=int64, numpy=\n",
              " array([[[0]],\n",
              " \n",
              "        [[0]],\n",
              " \n",
              "        [[1]],\n",
              " \n",
              "        [[1]],\n",
              " \n",
              "        [[1]]])>,\n",
              " <tf.Tensor: shape=(5, 1, 1), dtype=int64, numpy=\n",
              " array([[[0]],\n",
              " \n",
              "        [[1]],\n",
              " \n",
              "        [[0]],\n",
              " \n",
              "        [[1]],\n",
              " \n",
              "        [[1]]])>,\n",
              " <tf.Tensor: shape=(5, 1, 1), dtype=int64, numpy=\n",
              " array([[[1]],\n",
              " \n",
              "        [[1]],\n",
              " \n",
              "        [[1]],\n",
              " \n",
              "        [[0]],\n",
              " \n",
              "        [[1]]])>,\n",
              " <tf.Tensor: shape=(5, 1, 1), dtype=int64, numpy=\n",
              " array([[[1]],\n",
              " \n",
              "        [[1]],\n",
              " \n",
              "        [[1]],\n",
              " \n",
              "        [[1]],\n",
              " \n",
              "        [[1]]])>,\n",
              " <tf.Tensor: shape=(5, 1, 1), dtype=int64, numpy=\n",
              " array([[[0]],\n",
              " \n",
              "        [[1]],\n",
              " \n",
              "        [[1]],\n",
              " \n",
              "        [[1]],\n",
              " \n",
              "        [[1]]])>,\n",
              " <tf.Tensor: shape=(5, 1, 1), dtype=int64, numpy=\n",
              " array([[[0]],\n",
              " \n",
              "        [[1]],\n",
              " \n",
              "        [[1]],\n",
              " \n",
              "        [[1]],\n",
              " \n",
              "        [[1]]])>,\n",
              " <tf.Tensor: shape=(5, 1, 1), dtype=int64, numpy=\n",
              " array([[[1]],\n",
              " \n",
              "        [[1]],\n",
              " \n",
              "        [[1]],\n",
              " \n",
              "        [[1]],\n",
              " \n",
              "        [[0]]])>,\n",
              " <tf.Tensor: shape=(5, 1, 1), dtype=int64, numpy=\n",
              " array([[[1]],\n",
              " \n",
              "        [[1]],\n",
              " \n",
              "        [[1]],\n",
              " \n",
              "        [[1]],\n",
              " \n",
              "        [[0]]])>,\n",
              " <tf.Tensor: shape=(5, 1, 1), dtype=int64, numpy=\n",
              " array([[[1]],\n",
              " \n",
              "        [[1]],\n",
              " \n",
              "        [[1]],\n",
              " \n",
              "        [[1]],\n",
              " \n",
              "        [[1]]])>,\n",
              " <tf.Tensor: shape=(5, 1, 1), dtype=int64, numpy=\n",
              " array([[[1]],\n",
              " \n",
              "        [[1]],\n",
              " \n",
              "        [[1]],\n",
              " \n",
              "        [[1]],\n",
              " \n",
              "        [[1]]])>,\n",
              " <tf.Tensor: shape=(5, 1, 1), dtype=int64, numpy=\n",
              " array([[[1]],\n",
              " \n",
              "        [[1]],\n",
              " \n",
              "        [[1]],\n",
              " \n",
              "        [[1]],\n",
              " \n",
              "        [[0]]])>,\n",
              " <tf.Tensor: shape=(5, 1, 1), dtype=int64, numpy=\n",
              " array([[[1]],\n",
              " \n",
              "        [[1]],\n",
              " \n",
              "        [[1]],\n",
              " \n",
              "        [[1]],\n",
              " \n",
              "        [[1]]])>,\n",
              " <tf.Tensor: shape=(5, 1, 1), dtype=int64, numpy=\n",
              " array([[[1]],\n",
              " \n",
              "        [[0]],\n",
              " \n",
              "        [[1]],\n",
              " \n",
              "        [[0]],\n",
              " \n",
              "        [[1]]])>,\n",
              " <tf.Tensor: shape=(2, 1, 1), dtype=int64, numpy=\n",
              " array([[[1]],\n",
              " \n",
              "        [[1]]])>]"
            ]
          },
          "metadata": {},
          "execution_count": 19
        }
      ]
    },
    {
      "cell_type": "code",
      "source": [
        "#Apply one hot encoding on a sample record\n",
        "lookup = tf.keras.layers.IntegerLookup(output_mode='one_hot')\n",
        "lookup.adapt(train_ds.map(lambda x, y: x['sex']))\n",
        "lookup([1])"
      ],
      "metadata": {
        "colab": {
          "base_uri": "https://localhost:8080/"
        },
        "id": "UpKn4idhdUJH",
        "outputId": "f37871da-ef27-40dd-807b-894f3499da01"
      },
      "execution_count": 20,
      "outputs": [
        {
          "output_type": "execute_result",
          "data": {
            "text/plain": [
              "<tf.Tensor: shape=(3,), dtype=float32, numpy=array([0., 1., 0.], dtype=float32)>"
            ]
          },
          "metadata": {},
          "execution_count": 20
        }
      ]
    },
    {
      "cell_type": "code",
      "source": [
        "#If using vocab parameter, we need to explicity mention the unique classes\n",
        "sex_val = [0, 1]\n",
        "str_lookup = tf.keras.layers.IntegerLookup(output_mode='one_hot')\n",
        "str_lookup.adapt(sex_val)\n",
        "str_lookup([[0],[1]])"
      ],
      "metadata": {
        "colab": {
          "base_uri": "https://localhost:8080/"
        },
        "id": "8BWbcYrNntEO",
        "outputId": "caac3d10-e7a6-4a94-d9e8-653eef0b87dd"
      },
      "execution_count": 21,
      "outputs": [
        {
          "output_type": "execute_result",
          "data": {
            "text/plain": [
              "<tf.Tensor: shape=(2, 3), dtype=float32, numpy=\n",
              "array([[0., 0., 1.],\n",
              "       [0., 1., 0.]], dtype=float32)>"
            ]
          },
          "metadata": {},
          "execution_count": 21
        }
      ]
    },
    {
      "cell_type": "code",
      "source": [
        "#Additional dimension is added by the lookup layer to capture any new class as 'Other'\n",
        "str_lookup([[0],[1],[3]])"
      ],
      "metadata": {
        "colab": {
          "base_uri": "https://localhost:8080/"
        },
        "id": "2CP1H_emtKhG",
        "outputId": "c2242eac-d4c8-49dc-d07d-61638f726161"
      },
      "execution_count": 22,
      "outputs": [
        {
          "output_type": "execute_result",
          "data": {
            "text/plain": [
              "<tf.Tensor: shape=(3, 3), dtype=float32, numpy=\n",
              "array([[0., 0., 1.],\n",
              "       [0., 1., 0.],\n",
              "       [1., 0., 0.]], dtype=float32)>"
            ]
          },
          "metadata": {},
          "execution_count": 22
        }
      ]
    },
    {
      "cell_type": "markdown",
      "metadata": {
        "id": "sTNTvYjfaxsW"
      },
      "source": [
        "### Numerical features Normalization\n",
        "The following feature are continuous numerical features:\n",
        "\n",
        "- `age`\n",
        "- `trestbps`\n",
        "- `chol`\n",
        "- `thalach`\n",
        "- `oldpeak`\n",
        "- `slope`\n",
        "\n",
        "For each of these features, we will use a `Normalization()` layer to make sure the mean\n",
        "of each feature is 0 and its standard deviation is 1.\n",
        "\n",
        "\n",
        "- Define a function `encode_numerical_feature` to apply featurewise normalization to numerical features.\n"
      ]
    },
    {
      "cell_type": "markdown",
      "source": [
        "Refer Normalization [here](https://www.tensorflow.org/api_docs/python/tf/keras/layers/Normalization)"
      ],
      "metadata": {
        "id": "SQ0TCXUOAXgE"
      }
    },
    {
      "cell_type": "code",
      "execution_count": 23,
      "metadata": {
        "id": "g1Zl8AYgaxsW"
      },
      "outputs": [],
      "source": [
        "def encode_numerical_feature(feature, name, dataset):\n",
        "    # Create a Normalization layer for our feature\n",
        "    ## YOUR CODE HERE\n",
        "    normalizer = layers.Normalization()\n",
        "    # Prepare a Dataset that only yields our feature\n",
        "    ## YOUR CODE HERE\n",
        "    feature_ds = dataset.map(lambda x, y: x[name])\n",
        "    feature_ds = feature_ds.map(lambda x: tf.expand_dims(x, -1))\n",
        "\n",
        "    # Learn the statistics of the data\n",
        "    ## YOUR CODE HERE\n",
        "    normalizer.adapt(feature_ds)\n",
        "\n",
        "    # Normalize the input feature\n",
        "    ## YOUR CODE HERE\n",
        "    encoded_feature = normalizer(feature)\n",
        "    return encoded_feature"
      ]
    },
    {
      "cell_type": "markdown",
      "source": [
        "# Part B"
      ],
      "metadata": {
        "id": "xY9mCVZ8W604"
      }
    },
    {
      "cell_type": "markdown",
      "metadata": {
        "id": "zQlt1xCbaxsX"
      },
      "source": [
        "## Building the model [4 Marks]"
      ]
    },
    {
      "cell_type": "markdown",
      "source": [
        "#### Need to instantiate a Keras tensor for all features\n",
        " Use keras Input() [method](https://keras.io/api/layers/core_layers/input/).\n",
        "* Create a list of inputs to be fed to the model.\n",
        "* This list consists of the features output from keras Input() method.\n",
        "* These inputs include all the features.\n"
      ],
      "metadata": {
        "id": "zBhmQ_q5oLIq"
      }
    },
    {
      "cell_type": "code",
      "source": [
        "# Categorical features encoded as integers\n",
        "## YOUR CODE HERE\n",
        "sex = keras.Input(shape=(1,), name=\"sex\", dtype=\"int64\")\n",
        "cp = keras.Input(shape=(1,), name=\"cp\", dtype=\"int64\")\n",
        "fbs = keras.Input(shape=(1,), name=\"fbs\", dtype=\"int64\")\n",
        "restecg = keras.Input(shape=(1,), name=\"restecg\", dtype=\"int64\")\n",
        "exang = keras.Input(shape=(1,), name=\"exang\", dtype=\"int64\")\n",
        "ca = keras.Input(shape=(1,), name=\"ca\", dtype=\"int64\")\n",
        "\n",
        "# Categorical feature encoded as string\n",
        "## YOUR CODE HERE\n",
        "thal = keras.Input(shape=(1,), name=\"thal\", dtype=\"string\")\n",
        "\n",
        "# Numerical features\n",
        "## YOUR CODE HERE\n",
        "age = keras.Input(shape=(1,), name=\"age\", dtype='int64')\n",
        "trestbps = keras.Input(shape=(1,), name=\"trestbps\", dtype='int64')\n",
        "chol = keras.Input(shape=(1,), name=\"chol\", dtype='int64')\n",
        "thalach = keras.Input(shape=(1,), name=\"thalach\", dtype='int64')\n",
        "oldpeak = keras.Input(shape=(1,), name=\"oldpeak\", dtype='int64')\n",
        "slope = keras.Input(shape=(1,), name=\"slope\", dtype='int64')\n",
        "\n",
        "\n",
        "\n",
        "## These list of inputs objects are fed inside the model as inputs\n",
        "all_inputs = [age, sex, cp, trestbps, chol, fbs, restecg, thalach, exang, oldpeak, slope, ca, thal ]"
      ],
      "metadata": {
        "id": "7DWkHm9-ymp6"
      },
      "execution_count": 24,
      "outputs": []
    },
    {
      "cell_type": "markdown",
      "source": [
        "### Encoding above features\n",
        "Use  \"encode_categorical_feature\" & \"encode_numerical_feature\" function on respective features that we defined above."
      ],
      "metadata": {
        "id": "L9QJ4k6tzKcl"
      }
    },
    {
      "cell_type": "code",
      "execution_count": 25,
      "metadata": {
        "id": "q3ISoSGRaxsX"
      },
      "outputs": [],
      "source": [
        "# Integer categorical features\n",
        "sex_encoded = encode_categorical_feature(sex,\"sex\", train_ds, False)\n",
        "cp_encoded = encode_categorical_feature(cp,\"cp\", train_ds, False)\n",
        "fbs_encoded = encode_categorical_feature(fbs,\"fbs\", train_ds, False)\n",
        "restecg_encoded = encode_categorical_feature(restecg,\"restecg\", train_ds, False)\n",
        "exang_encoded = encode_categorical_feature(exang,\"exang\", train_ds, False)\n",
        "ca_encoded = encode_categorical_feature(ca,\"ca\", train_ds, False)\n",
        "\n",
        "# String categorical features\n",
        "thal_encoded = encode_categorical_feature(thal,\"thal\", train_ds, True)\n",
        "\n",
        "# Numerical features\n",
        "age_encoded = encode_numerical_feature(age, \"age\", train_ds)\n",
        "trestbps_encoded = encode_numerical_feature(trestbps, \"trestbps\", train_ds)\n",
        "chol_encoded = encode_numerical_feature(chol, \"chol\", train_ds)\n",
        "thalach_encoded = encode_numerical_feature(thalach, \"thalach\", train_ds)\n",
        "oldpeak_encoded = encode_numerical_feature(oldpeak, \"oldpeak\", train_ds)\n",
        "slope_encoded = encode_numerical_feature(slope, \"slope\", train_ds)"
      ]
    },
    {
      "cell_type": "markdown",
      "source": [
        "##### Understanding the result of  encoder functions"
      ],
      "metadata": {
        "id": "4GImpVSz8Mh-"
      }
    },
    {
      "cell_type": "code",
      "source": [
        "#sex_encoded = ## YOUR CODE HERE\n",
        "print(sex_encoded)"
      ],
      "metadata": {
        "id": "7agE0k6X7TIo",
        "colab": {
          "base_uri": "https://localhost:8080/"
        },
        "outputId": "24d7cf16-b29f-4899-94e5-84f255e51ed7"
      },
      "execution_count": 26,
      "outputs": [
        {
          "output_type": "stream",
          "name": "stdout",
          "text": [
            "KerasTensor(type_spec=TensorSpec(shape=(None, 3), dtype=tf.float32, name=None), name='integer_lookup_2/bincount/DenseBincount:0', description=\"created by layer 'integer_lookup_2'\")\n"
          ]
        }
      ]
    },
    {
      "cell_type": "code",
      "source": [
        "#cp_encoded = ## YOUR CODE HERE\n",
        "cp_encoded"
      ],
      "metadata": {
        "id": "N-Lr3-9W7-EU",
        "colab": {
          "base_uri": "https://localhost:8080/"
        },
        "outputId": "325ecc8c-412c-4043-d7fb-da535a5bc6f0"
      },
      "execution_count": 27,
      "outputs": [
        {
          "output_type": "execute_result",
          "data": {
            "text/plain": [
              "<KerasTensor: shape=(None, 6) dtype=float32 (created by layer 'integer_lookup_3')>"
            ]
          },
          "metadata": {},
          "execution_count": 27
        }
      ]
    },
    {
      "cell_type": "markdown",
      "source": [
        "### Using Functional API for building model\n",
        "Build the three model architectures with 1, 2, and 3 hidden layers having different numbers of neurons. Train for each architecture and compare the train and the validation accuracy.\n",
        "\n",
        "* These inputs will be passed to keras.model.\n",
        "* Concatenate the encoded features using layers.concatenate()\n",
        "* Add the Dense layers and compile the model."
      ],
      "metadata": {
        "id": "XgCGkr5Y1CqB"
      }
    },
    {
      "cell_type": "code",
      "source": [
        "all_inputs = [sex, cp, fbs, restecg,exang,ca,thal,age,trestbps,chol,thalach,oldpeak,slope]\n",
        "\n",
        "all_features = layers.concatenate(\n",
        "    [\n",
        "        sex_encoded,\n",
        "        cp_encoded,\n",
        "        fbs_encoded,\n",
        "        restecg_encoded,\n",
        "        exang_encoded,\n",
        "        ca_encoded,\n",
        "        thal_encoded,\n",
        "        age_encoded,\n",
        "        trestbps_encoded,\n",
        "        chol_encoded,\n",
        "        thalach_encoded,\n",
        "        oldpeak_encoded,\n",
        "        slope_encoded\n",
        "    ]\n",
        ")\n",
        "\n",
        "## In Functional API for creating a Neural Network model.\n",
        "## Different layers are connected as layers.method(previous layer object)\n",
        "## For eg: x = layers.Dense(32, activation=\"relu\")(all_features), similarly\n",
        "## layers.concatenate is connected to Input or Initialization of keras tensors.\n",
        "## layers.concatenate([encoded_feature_object1, encoded_feature_object2, .....]), where\n",
        "## encoded_feature_objects contains the return values from encode_categorical and encode_numerical features.\n",
        "\n",
        "## YOUR CODE HERE     # Dense\n",
        "x= layers.Dense(64, activation=\"relu\")(all_features)\n",
        "## YOUR CODE HERE     # Dropout\n",
        "x= layers.Dropout(0.5)(x)    #Regularization step - The Dropout layer randomly sets input units to 0 with a frequency of rate at each step during training time, which helps prevent overfitting. Inputs not set to 0 are scaled up by 1 / (1 - rate) such that the sum over all inputs is unchanged.\n",
        "output = layers.Dense(1, activation=\"sigmoid\")(x)\n",
        "model = keras.Model(inputs=all_inputs, outputs=output)\n",
        "model.compile(\"adam\", \"binary_crossentropy\", metrics=[\"accuracy\"])\n",
        "model.summary()"
      ],
      "metadata": {
        "id": "WEDvPj0o1GJR",
        "colab": {
          "base_uri": "https://localhost:8080/"
        },
        "outputId": "31f599e5-4286-4d35-84cb-5e0e6894f5e7"
      },
      "execution_count": 28,
      "outputs": [
        {
          "output_type": "stream",
          "name": "stdout",
          "text": [
            "Model: \"model\"\n",
            "__________________________________________________________________________________________________\n",
            " Layer (type)                Output Shape                 Param #   Connected to                  \n",
            "==================================================================================================\n",
            " sex (InputLayer)            [(None, 1)]                  0         []                            \n",
            "                                                                                                  \n",
            " cp (InputLayer)             [(None, 1)]                  0         []                            \n",
            "                                                                                                  \n",
            " fbs (InputLayer)            [(None, 1)]                  0         []                            \n",
            "                                                                                                  \n",
            " restecg (InputLayer)        [(None, 1)]                  0         []                            \n",
            "                                                                                                  \n",
            " exang (InputLayer)          [(None, 1)]                  0         []                            \n",
            "                                                                                                  \n",
            " ca (InputLayer)             [(None, 1)]                  0         []                            \n",
            "                                                                                                  \n",
            " thal (InputLayer)           [(None, 1)]                  0         []                            \n",
            "                                                                                                  \n",
            " age (InputLayer)            [(None, 1)]                  0         []                            \n",
            "                                                                                                  \n",
            " trestbps (InputLayer)       [(None, 1)]                  0         []                            \n",
            "                                                                                                  \n",
            " chol (InputLayer)           [(None, 1)]                  0         []                            \n",
            "                                                                                                  \n",
            " thalach (InputLayer)        [(None, 1)]                  0         []                            \n",
            "                                                                                                  \n",
            " oldpeak (InputLayer)        [(None, 1)]                  0         []                            \n",
            "                                                                                                  \n",
            " slope (InputLayer)          [(None, 1)]                  0         []                            \n",
            "                                                                                                  \n",
            " integer_lookup_2 (IntegerL  (None, 3)                    0         ['sex[0][0]']                 \n",
            " ookup)                                                                                           \n",
            "                                                                                                  \n",
            " integer_lookup_3 (IntegerL  (None, 6)                    0         ['cp[0][0]']                  \n",
            " ookup)                                                                                           \n",
            "                                                                                                  \n",
            " integer_lookup_4 (IntegerL  (None, 3)                    0         ['fbs[0][0]']                 \n",
            " ookup)                                                                                           \n",
            "                                                                                                  \n",
            " integer_lookup_5 (IntegerL  (None, 4)                    0         ['restecg[0][0]']             \n",
            " ookup)                                                                                           \n",
            "                                                                                                  \n",
            " integer_lookup_6 (IntegerL  (None, 3)                    0         ['exang[0][0]']               \n",
            " ookup)                                                                                           \n",
            "                                                                                                  \n",
            " integer_lookup_7 (IntegerL  (None, 5)                    0         ['ca[0][0]']                  \n",
            " ookup)                                                                                           \n",
            "                                                                                                  \n",
            " string_lookup (StringLooku  (None, 6)                    0         ['thal[0][0]']                \n",
            " p)                                                                                               \n",
            "                                                                                                  \n",
            " normalization (Normalizati  (None, 1)                    3         ['age[0][0]']                 \n",
            " on)                                                                                              \n",
            "                                                                                                  \n",
            " normalization_1 (Normaliza  (None, 1)                    3         ['trestbps[0][0]']            \n",
            " tion)                                                                                            \n",
            "                                                                                                  \n",
            " normalization_2 (Normaliza  (None, 1)                    3         ['chol[0][0]']                \n",
            " tion)                                                                                            \n",
            "                                                                                                  \n",
            " normalization_3 (Normaliza  (None, 1)                    3         ['thalach[0][0]']             \n",
            " tion)                                                                                            \n",
            "                                                                                                  \n",
            " normalization_4 (Normaliza  (None, 1)                    3         ['oldpeak[0][0]']             \n",
            " tion)                                                                                            \n",
            "                                                                                                  \n",
            " normalization_5 (Normaliza  (None, 1)                    3         ['slope[0][0]']               \n",
            " tion)                                                                                            \n",
            "                                                                                                  \n",
            " concatenate (Concatenate)   (None, 36)                   0         ['integer_lookup_2[0][0]',    \n",
            "                                                                     'integer_lookup_3[0][0]',    \n",
            "                                                                     'integer_lookup_4[0][0]',    \n",
            "                                                                     'integer_lookup_5[0][0]',    \n",
            "                                                                     'integer_lookup_6[0][0]',    \n",
            "                                                                     'integer_lookup_7[0][0]',    \n",
            "                                                                     'string_lookup[0][0]',       \n",
            "                                                                     'normalization[0][0]',       \n",
            "                                                                     'normalization_1[0][0]',     \n",
            "                                                                     'normalization_2[0][0]',     \n",
            "                                                                     'normalization_3[0][0]',     \n",
            "                                                                     'normalization_4[0][0]',     \n",
            "                                                                     'normalization_5[0][0]']     \n",
            "                                                                                                  \n",
            " dense (Dense)               (None, 64)                   2368      ['concatenate[0][0]']         \n",
            "                                                                                                  \n",
            " dropout (Dropout)           (None, 64)                   0         ['dense[0][0]']               \n",
            "                                                                                                  \n",
            " dense_1 (Dense)             (None, 1)                    65        ['dropout[0][0]']             \n",
            "                                                                                                  \n",
            "==================================================================================================\n",
            "Total params: 2451 (9.60 KB)\n",
            "Trainable params: 2433 (9.50 KB)\n",
            "Non-trainable params: 18 (96.00 Byte)\n",
            "__________________________________________________________________________________________________\n"
          ]
        }
      ]
    },
    {
      "cell_type": "markdown",
      "metadata": {
        "id": "6n8nNJl8axsX"
      },
      "source": [
        "### Visualize the connectivity graph using `keras.utils.plot_model`:"
      ]
    },
    {
      "cell_type": "code",
      "execution_count": 29,
      "metadata": {
        "id": "HHIJkQVTaxsX",
        "colab": {
          "base_uri": "https://localhost:8080/",
          "height": 813
        },
        "outputId": "0b2c0a9e-378d-49ac-c984-53a8dbeb7ef0"
      },
      "outputs": [
        {
          "output_type": "execute_result",
          "data": {
            "image/png": "[encoded data removed]",
            "text/plain": [
              "<IPython.core.display.Image object>"
            ]
          },
          "metadata": {},
          "execution_count": 29
        }
      ],
      "source": [
        "# `rankdir='LR'` is to make the graph horizontal.\n",
        "## YOUR CODE HERE\n",
        "keras.utils.plot_model(model,show_shapes=True,rankdir='LR' )"
      ]
    },
    {
      "cell_type": "markdown",
      "metadata": {
        "id": "5vnGOiMuaxsX"
      },
      "source": [
        "### Train the model\n",
        "\n",
        "(Change the Colab notebook's runtime to GPU for faster training)"
      ]
    },
    {
      "cell_type": "code",
      "execution_count": 30,
      "metadata": {
        "id": "GflUtJDTaxsX",
        "colab": {
          "base_uri": "https://localhost:8080/"
        },
        "outputId": "df1138ee-1f76-4583-b433-10beb97b04c3"
      },
      "outputs": [
        {
          "output_type": "stream",
          "name": "stdout",
          "text": [
            "Epoch 1/10\n",
            "49/49 [==============================] - 2s 13ms/step - loss: 0.6292 - accuracy: 0.6694 - val_loss: 0.4720 - val_accuracy: 0.7377\n",
            "Epoch 2/10\n",
            "49/49 [==============================] - 0s 6ms/step - loss: 0.5359 - accuracy: 0.6860 - val_loss: 0.4069 - val_accuracy: 0.8033\n",
            "Epoch 3/10\n",
            "49/49 [==============================] - 0s 4ms/step - loss: 0.4543 - accuracy: 0.7479 - val_loss: 0.3695 - val_accuracy: 0.8689\n",
            "Epoch 4/10\n",
            "49/49 [==============================] - 0s 4ms/step - loss: 0.4314 - accuracy: 0.7645 - val_loss: 0.3456 - val_accuracy: 0.8852\n",
            "Epoch 5/10\n",
            "49/49 [==============================] - 0s 4ms/step - loss: 0.4067 - accuracy: 0.7851 - val_loss: 0.3319 - val_accuracy: 0.8852\n",
            "Epoch 6/10\n",
            "49/49 [==============================] - 0s 4ms/step - loss: 0.3949 - accuracy: 0.8058 - val_loss: 0.3197 - val_accuracy: 0.9016\n",
            "Epoch 7/10\n",
            "49/49 [==============================] - 0s 4ms/step - loss: 0.3719 - accuracy: 0.8058 - val_loss: 0.3115 - val_accuracy: 0.9344\n",
            "Epoch 8/10\n",
            "49/49 [==============================] - 0s 4ms/step - loss: 0.3527 - accuracy: 0.8182 - val_loss: 0.3040 - val_accuracy: 0.9344\n",
            "Epoch 9/10\n",
            "49/49 [==============================] - 0s 4ms/step - loss: 0.3376 - accuracy: 0.8306 - val_loss: 0.2984 - val_accuracy: 0.9344\n",
            "Epoch 10/10\n",
            "49/49 [==============================] - 0s 4ms/step - loss: 0.3442 - accuracy: 0.8223 - val_loss: 0.2963 - val_accuracy: 0.9344\n"
          ]
        }
      ],
      "source": [
        "## YOUR CODE HERE\n",
        "target = train_dataframe['target']\n",
        "#model.fit(train_ds, target epochs=100, validation_data=val_ds)\n",
        "\n",
        "history = model.fit(train_ds, epochs=10, validation_data=val_ds)"
      ]
    },
    {
      "cell_type": "code",
      "source": [
        "loss = history.history['loss']\n",
        "val_loss = history.history['val_loss']\n",
        "\n",
        "epochs=range(1, len(loss) + 1)\n",
        "plt.plot(epochs, loss, \"bo\", label=\"Training loss\")\n",
        "plt.plot(epochs, val_loss, \"b\", label=\"Validation loss\")\n",
        "\n",
        "plt.title(\"Training and validation loss\")\n",
        "\n",
        "plt.xlabel(\"Epochs\")\n",
        "plt.ylabel(\"Loss\")\n",
        "plt.legend()\n",
        "plt.show()"
      ],
      "metadata": {
        "colab": {
          "base_uri": "https://localhost:8080/",
          "height": 472
        },
        "id": "Wq3DAMdYm05e",
        "outputId": "c5a174a2-b510-44c2-adca-67a11ed813a4"
      },
      "execution_count": 31,
      "outputs": [
        {
          "output_type": "display_data",
          "data": {
            "text/plain": [
              "<Figure size 640x480 with 1 Axes>"
            ],
            "image/png": "[encoded data removed]"
          },
          "metadata": {}
        }
      ]
    },
    {
      "cell_type": "code",
      "source": [
        "acc = history.history[\"accuracy\"]\n",
        "val_acc = history.history[\"val_accuracy\"]\n",
        "\n",
        "plt.plot(epochs, acc, \"bo\", label=\"Training accuracy\")\n",
        "plt.plot(epochs, val_acc, \"b\", label=\"Validation accuracy\")\n",
        "\n",
        "plt.title(\"Training and validation accuracy\")\n",
        "\n",
        "plt.xlabel(\"Epochs\")\n",
        "plt.ylabel(\"Accuracy\")\n",
        "plt.legend()\n",
        "plt.show()"
      ],
      "metadata": {
        "colab": {
          "base_uri": "https://localhost:8080/",
          "height": 472
        },
        "id": "ImHkWmOCc9-7",
        "outputId": "74d18da5-2cd0-4fa6-a380-b807a1d4447e"
      },
      "execution_count": 32,
      "outputs": [
        {
          "output_type": "display_data",
          "data": {
            "text/plain": [
              "<Figure size 640x480 with 1 Axes>"
            ],
            "image/png": "[encoded data removed]"
          },
          "metadata": {}
        }
      ]
    },
    {
      "cell_type": "markdown",
      "metadata": {
        "id": "ZDrBzU1jaxsY"
      },
      "source": [
        "## Inference on new data [1 Mark]\n",
        "\n",
        "To get a prediction for a new sample, you can simply call `model.predict()`. There are\n",
        "just two things you need to do:\n",
        "\n",
        "1. wrap scalars into a list so as to have a batch dimension (models only process batches\n",
        "of data, not single samples)\n",
        "2. Call `convert_to_tensor` on each feature\n",
        "\n",
        "Note : The predicted output should be either 0  or 1 based on a threshold value of probability 0.5."
      ]
    },
    {
      "cell_type": "code",
      "execution_count": 33,
      "metadata": {
        "id": "9OHghLcbaxsY",
        "colab": {
          "base_uri": "https://localhost:8080/"
        },
        "outputId": "4b53c239-452f-4dfd-ea8c-89d014e7f3d1"
      },
      "outputs": [
        {
          "output_type": "stream",
          "name": "stdout",
          "text": [
            "1/1 [==============================] - 0s 325ms/step\n",
            "This particular patient had a 39.2 percent probability of being healthy, as evaluated by our model.\n"
          ]
        }
      ],
      "source": [
        "## YOUR CODE HERE\n",
        "sample = {\n",
        "    \"sex\": 0,\n",
        "    \"age\" : 63,\n",
        "    \"cp\" : 1,\n",
        "    \"trestbps\": 125,\n",
        "    \"chol\": 233,\n",
        "    \"fbs\": 0,\n",
        "    \"restecg\": 2,\n",
        "    \"thalach\": 123,\n",
        "    \"exang\": 1,\n",
        "    \"oldpeak\": 0.8,\n",
        "    \"slope\": 3,\n",
        "    \"ca\": 3,\n",
        "    \"thal\": \"normal\"\n",
        "}\n",
        "input_dict = {name: tf.convert_to_tensor([value]) for name, value in sample.items()}\n",
        "predictions = model.predict(input_dict)\n",
        "\n",
        "## YOUR CODE\n",
        "print(\n",
        "    \"This particular patient had a %.1f percent probability \"\n",
        "    \"of being healthy, as evaluated by our model.\" % (100 * predictions[0][0],)\n",
        ")"
      ]
    }
  ],
  "metadata": {
    "colab": {
      "provenance": [],
      "gpuType": "T4",
      "include_colab_link": true
    },
    "kernelspec": {
      "display_name": "Python 3",
      "name": "python3"
    },
    "language_info": {
      "codemirror_mode": {
        "name": "ipython",
        "version": 3
      },
      "file_extension": ".py",
      "mimetype": "text/x-python",
      "name": "python",
      "nbconvert_exporter": "python",
      "pygments_lexer": "ipython3",
      "version": "3.7.0"
    },
    "accelerator": "GPU"
  },
  "nbformat": 4,
  "nbformat_minor": 0
}