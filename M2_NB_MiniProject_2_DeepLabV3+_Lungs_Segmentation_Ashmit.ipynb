{
  "nbformat": 4,
  "nbformat_minor": 0,
  "metadata": {
    "colab": {
      "provenance": []
    },
    "kernelspec": {
      "name": "python3",
      "display_name": "Python 3"
    },
    "language_info": {
      "name": "python"
    }
  },
  "cells": [
    {
      "cell_type": "markdown",
      "source": [
        "# Advanced Certification Programme in AI and MLOps\n",
        "## A programme by IISc and TalentSprint\n",
        "### Mini-Project: Lung Segmentation of Chest X-Ray dataset using DeepLabV3+"
      ],
      "metadata": {
        "id": "LJY-HzQzCiJx"
      }
    },
    {
      "cell_type": "markdown",
      "source": [
        "## Learning Objectives:\n",
        "\n",
        "At the end of the experiment, you will be able to:\n",
        "\n",
        "- understand, prepare, and visualize the the dataset containing image and corresponding masked image used for segmentation\n",
        "- implement DeepLabV3+ architecture\n",
        "- create a masked image (prediction)"
      ],
      "metadata": {
        "id": "DHVXkSrlCq6X"
      }
    },
    {
      "cell_type": "markdown",
      "source": [
        "## Introduction\n",
        "\n",
        "Semantic segmentation is a computer vision task that involves dividing an image into different regions, each of which is labeled with a semantic category. The goal of semantic segmentation is to enable machines to understand the content of an image at a pixel level, by assigning a label to each individual pixel based on the object or region it belongs to.\n",
        "\n",
        "This technique is widely used in many applications such as self-driving cars, medical image analysis, and object recognition in robotics. It helps to extract meaningful information from images and to understand the relationships between objects and their environment.\n",
        "\n",
        "The below figure shows how semantic segmentation differs from other algorithms, such as object detection.\n",
        "\n",
        "<br>\n",
        "<img src='https://cdn.iisc.talentsprint.com/AIandMLOps/Images/segmentation_vs_other_algos.jpeg' width=700px>\n",
        "<br><br>\n",
        "\n",
        "Moreover, in contrast to object detection, which detects and localizes objects within an image, semantic segmentation is more precise and detailed. It provides a much more granular understanding of the content of an image, allowing for more advanced and accurate applications."
      ],
      "metadata": {
        "id": "gOGH5iqfz8ml"
      }
    },
    {
      "cell_type": "markdown",
      "source": [
        "## Dataset\n",
        "\n",
        "*  The Chest X-Ray dataset is made up of images and segmentated mask from two diffrent sources - Shenzhen and Montgomery dataset\n",
        "*  The CXR_png folder consists of Chest X-Rays and the masks folder has the segmented mask\n",
        "*  There are 704 images with their masks mapped with each other  \n",
        "\n",
        "<br>\n",
        "$\\quad$<img src='https://cdn.extras.talentsprint.com/AIandMLOps/Images/semantic_segmentation.png' width=700px>\n",
        "<br><br>\n"
      ],
      "metadata": {
        "id": "665oBbYDnVgl"
      }
    },
    {
      "cell_type": "markdown",
      "source": [
        "## Problem Statement\n",
        "\n",
        "Perfrom the lungs segmentation on Chest X-Ray dataset using DeepLabV3+ model."
      ],
      "metadata": {
        "id": "Y90Rgk5wG5Gc"
      }
    },
    {
      "cell_type": "markdown",
      "metadata": {
        "id": "operating-latter"
      },
      "source": [
        "## Grading = 10 Points"
      ]
    },
    {
      "cell_type": "code",
      "metadata": {
        "id": "812a816f",
        "cellView": "form",
        "colab": {
          "base_uri": "https://localhost:8080/"
        },
        "outputId": "ad082c54-451c-4b07-8afd-1901c081591c"
      },
      "source": [
        "#@title Download the data\n",
        "!wget https://cdn.iisc.talentsprint.com/AIandMLOps/MiniProjects/Datasets/LungSegmentation.zip\n",
        "!unzip -qq LungSegmentation.zip\n",
        "print(\"Data Downloaded Successfuly!!\")"
      ],
      "execution_count": 1,
      "outputs": [
        {
          "output_type": "stream",
          "name": "stdout",
          "text": [
            "--2024-05-31 14:22:54--  https://cdn.iisc.talentsprint.com/AIandMLOps/MiniProjects/Datasets/LungSegmentation.zip\n",
            "Resolving cdn.iisc.talentsprint.com (cdn.iisc.talentsprint.com)... 172.105.52.210\n",
            "Connecting to cdn.iisc.talentsprint.com (cdn.iisc.talentsprint.com)|172.105.52.210|:443... connected.\n",
            "HTTP request sent, awaiting response... 200 OK\n",
            "Length: 139904834 (133M) [application/zip]\n",
            "Saving to: ‘LungSegmentation.zip’\n",
            "\n",
            "LungSegmentation.zi 100%[===================>] 133.42M  10.7MB/s    in 16s     \n",
            "\n",
            "2024-05-31 14:23:11 (8.50 MB/s) - ‘LungSegmentation.zip’ saved [139904834/139904834]\n",
            "\n",
            "Data Downloaded Successfuly!!\n"
          ]
        }
      ]
    },
    {
      "cell_type": "markdown",
      "source": [
        "### Import required packages"
      ],
      "metadata": {
        "id": "JC_nWtDfcjRt"
      }
    },
    {
      "cell_type": "code",
      "execution_count": 2,
      "metadata": {
        "id": "j1s-j0pdIRKV"
      },
      "outputs": [],
      "source": [
        "import os\n",
        "import cv2\n",
        "import numpy as np\n",
        "from glob import glob\n",
        "from PIL import Image\n",
        "from scipy.io import loadmat\n",
        "import matplotlib.pyplot as plt\n",
        "import tensorflow as tf\n",
        "from tensorflow import keras\n",
        "from tensorflow.keras import layers"
      ]
    },
    {
      "cell_type": "markdown",
      "source": [
        "### **PART-A**"
      ],
      "metadata": {
        "id": "nL9DKRevMyu0"
      }
    },
    {
      "cell_type": "markdown",
      "source": [
        "### Data Visualization (1 point)"
      ],
      "metadata": {
        "id": "iQIXL-qvIHRD"
      }
    },
    {
      "cell_type": "markdown",
      "source": [
        "#### Image Visualization\n",
        "Visualize one of the Chest X-Ray image and its segmented label image."
      ],
      "metadata": {
        "id": "QpD0NpBLkyMW"
      }
    },
    {
      "cell_type": "code",
      "source": [
        "# Visualize an image\n",
        "# Visualize a semantic part segmentation label image\n",
        "# YOUR CODE HERE\n",
        "# Load an example image and mask\n",
        "image_path = '/content/LungSegmentation/CXR_png/CHNCXR_0001_0.png'\n",
        "mask_path = '/content/LungSegmentation/masks/CHNCXR_0001_0.png'\n",
        "\n",
        "image = cv2.imread(image_path, cv2.IMREAD_GRAYSCALE)\n",
        "mask = cv2.imread(mask_path, cv2.IMREAD_GRAYSCALE)\n",
        "\n",
        "# Plot the original image\n",
        "plt.subplot(1, 2, 1)\n",
        "plt.imshow(image, cmap='gray')\n",
        "plt.title('Original Chest X-Ray')\n",
        "\n",
        "# Plot the segmented mask\n",
        "plt.subplot(1, 2, 2)\n",
        "plt.imshow(mask, cmap='gray')\n",
        "plt.title('Segmented Mask')\n",
        "\n",
        "plt.show()"
      ],
      "metadata": {
        "id": "ISbeYklKCLfJ",
        "colab": {
          "base_uri": "https://localhost:8080/",
          "height": 308
        },
        "outputId": "c853f452-70f4-42e6-adb4-c4b3f0c35678"
      },
      "execution_count": 3,
      "outputs": [
        {
          "output_type": "display_data",
          "data": {
            "text/plain": [
              "<Figure size 640x480 with 2 Axes>"
            ],
            "image/png": "[encoded data removed]"
          },
          "metadata": {}
        }
      ]
    },
    {
      "cell_type": "markdown",
      "source": [],
      "metadata": {
        "id": "MJpeCLHs21CX"
      }
    },
    {
      "cell_type": "markdown",
      "metadata": {
        "id": "JJaGbpopIRKW"
      },
      "source": [
        "### Create a TensorFlow Dataset (1 points)\n",
        "Use the image size, batch size, number of classes, and data directory as given in the below code cell.\n",
        "\n",
        "Hint:\n",
        "1. Find all the image files in the CXR_png and masks subdirectory separately. The resulting list should be sorted in ascending order.\n",
        "2. Create a list of validation image, validation masks, test image, test masks, etc.\n",
        "3. Create a function that reads an image file and returns a preprocessed image tensor.  "
      ]
    },
    {
      "cell_type": "code",
      "execution_count": 4,
      "metadata": {
        "id": "8sj6gK1vIRKW"
      },
      "outputs": [],
      "source": [
        "IMAGE_SIZE = 512\n",
        "BATCH_SIZE = 4\n",
        "NUM_CLASSES = 2\n",
        "# Set your data directory\n",
        "DATA_DIR = \"./LungSegmentation\"\n",
        "\n",
        "# Find paths for all the image files in the 'CXR_png' subdirectory of the DATA_DIR directory.\n",
        "# Sort the list of file paths in ascending order\n",
        "all_images = [os.path.join(DATA_DIR, \"CXR_png\", filename) for filename in os.listdir(os.path.join(DATA_DIR, \"CXR_png\"))]\n",
        "\n",
        "# Find paths for all the mask files in the 'masks' subdirectory of the DATA_DIR directory.\n",
        "# Sort the list of file paths in ascending order\n",
        "all_masks = [os.path.join(DATA_DIR, \"masks\", filename) for filename in os.listdir(os.path.join(DATA_DIR, \"masks\"))]"
      ]
    },
    {
      "cell_type": "code",
      "source": [
        "import random\n",
        "#Cateogorizing images in 4 samples\n",
        "images_sample1 = []\n",
        "images_sample2 = []\n",
        "images_sample3 = []\n",
        "images_sample4 = []\n",
        "for i in range(len(all_images)):\n",
        "    if all_images[i].split('/')[-1].split('.')[0][0] == \"C\" and all_images[i].split('/')[-1].split('.')[0][-1] == \"0\":\n",
        "        images_sample1.append(all_images[i])\n",
        "    elif all_images[i].split('/')[-1].split('.')[0][0] == \"C\" and all_images[i].split('/')[-1].split('.')[0][-1] == \"1\":\n",
        "        images_sample2.append(all_images[i])\n",
        "    elif all_images[i].split('/')[-1].split('.')[0][0] == \"M\" and all_images[i].split('/')[-1].split('.')[0][-1] == \"0\":\n",
        "        images_sample3.append(all_images[i])\n",
        "    else:\n",
        "        images_sample4.append(all_images[i])\n",
        "\n",
        "\n",
        "# Randomly sample from each category of image\n",
        "sampled_train_images = []\n",
        "for images in [images_sample1, images_sample2, images_sample3, images_sample4]:\n",
        "    sampled_train_images.extend(random.sample(images, int(0.8*len(images))))\n",
        "\n",
        "sampled_val_test_images = []\n",
        "sampled_val_images =[]\n",
        "for images in [images_sample1, images_sample2, images_sample3, images_sample4]:\n",
        "    for image in images:\n",
        "        if image not in sampled_train_images:\n",
        "            sampled_val_test_images.append(image)\n",
        "\n",
        "sampled_val_images.extend(random.sample(sampled_val_test_images, int(0.5*len((sampled_val_test_images)))))\n",
        "\n",
        "sampled_test_images =[]\n",
        "for image in sampled_val_test_images:\n",
        "    if image not in sampled_val_images:\n",
        "        sampled_test_images.append(image)\n",
        "\n",
        "\n",
        "print('all images :',len(all_images))\n",
        "print ('Sample 1 : ', len(images_sample1))\n",
        "print ('Sample 2 : ', len(images_sample2))\n",
        "print ('Sample 3 : ', len(images_sample3))\n",
        "print ('Sample 4 : ', len(images_sample4))\n",
        "print ('Sampled Trained Images : ', len(sampled_train_images))\n",
        "print ('Sampled Val Images : ', len(sampled_val_images))\n",
        "print ('Sampled Test Images : ', len(sampled_test_images))\n",
        "\n",
        "\n"
      ],
      "metadata": {
        "colab": {
          "base_uri": "https://localhost:8080/"
        },
        "id": "vtZXumEDa44z",
        "outputId": "5a0b3831-83be-412b-f4dc-c612fb77589e"
      },
      "execution_count": 5,
      "outputs": [
        {
          "output_type": "stream",
          "name": "stdout",
          "text": [
            "all images : 704\n",
            "Sample 1 :  279\n",
            "Sample 2 :  287\n",
            "Sample 3 :  80\n",
            "Sample 4 :  58\n",
            "Sampled Trained Images :  562\n",
            "Sampled Val Images :  71\n",
            "Sampled Test Images :  71\n"
          ]
        }
      ]
    },
    {
      "cell_type": "code",
      "source": [
        "#indexing the masks set to images\n",
        "sampled_train_masks = []\n",
        "sampled_val_masks= []\n",
        "sampled_test_masks= []\n",
        "for i in range(len(all_masks)):\n",
        "    flag = 0\n",
        "    for j in range(len(sampled_train_images)):\n",
        "        if all_masks[i].split('/')[-1].split('.')[0] == sampled_train_images[j].split('/')[-1].split('.')[0]:\n",
        "            sampled_train_masks.append(all_masks[i])\n",
        "            flag = 1\n",
        "            break\n",
        "    if (flag == 0):\n",
        "        for x in range(len(sampled_val_images)):\n",
        "            if all_masks[i].split('/')[-1].split('.')[0] == sampled_val_images[x].split('/')[-1].split('.')[0]:\n",
        "                sampled_val_masks.append(all_masks[i])\n",
        "                flag = 1\n",
        "                break\n",
        "    if (flag == 0):\n",
        "        sampled_test_masks.append(all_masks[i])\n",
        "\n",
        "\n",
        "sampled_train_images = sorted(sampled_train_images)\n",
        "sampled_val_images = sorted(sampled_val_images)\n",
        "sampled_test_images = sorted(sampled_test_images)\n",
        "sampled_train_masks = sorted(sampled_train_masks)\n",
        "sampled_val_masks = sorted(sampled_val_masks)\n",
        "sampled_test_masks = sorted(sampled_test_masks)\n",
        "\n",
        "print(sampled_train_images[:5])\n",
        "print(sampled_train_masks[:5])\n",
        "print(sampled_val_images[:5])\n",
        "print(sampled_val_masks[:5])\n",
        "print(sampled_test_images[:5])\n",
        "print(sampled_test_masks[:5])"
      ],
      "metadata": {
        "colab": {
          "base_uri": "https://localhost:8080/"
        },
        "id": "-dg_OycJ-GtT",
        "outputId": "52f0f790-20db-481f-f595-8dd31339c644"
      },
      "execution_count": 6,
      "outputs": [
        {
          "output_type": "stream",
          "name": "stdout",
          "text": [
            "['./LungSegmentation/CXR_png/CHNCXR_0001_0.png', './LungSegmentation/CXR_png/CHNCXR_0002_0.png', './LungSegmentation/CXR_png/CHNCXR_0004_0.png', './LungSegmentation/CXR_png/CHNCXR_0005_0.png', './LungSegmentation/CXR_png/CHNCXR_0006_0.png']\n",
            "['./LungSegmentation/masks/CHNCXR_0001_0.png', './LungSegmentation/masks/CHNCXR_0002_0.png', './LungSegmentation/masks/CHNCXR_0004_0.png', './LungSegmentation/masks/CHNCXR_0005_0.png', './LungSegmentation/masks/CHNCXR_0006_0.png']\n",
            "['./LungSegmentation/CXR_png/CHNCXR_0003_0.png', './LungSegmentation/CXR_png/CHNCXR_0022_0.png', './LungSegmentation/CXR_png/CHNCXR_0024_0.png', './LungSegmentation/CXR_png/CHNCXR_0026_0.png', './LungSegmentation/CXR_png/CHNCXR_0028_0.png']\n",
            "['./LungSegmentation/masks/CHNCXR_0003_0.png', './LungSegmentation/masks/CHNCXR_0022_0.png', './LungSegmentation/masks/CHNCXR_0024_0.png', './LungSegmentation/masks/CHNCXR_0026_0.png', './LungSegmentation/masks/CHNCXR_0028_0.png']\n",
            "['./LungSegmentation/CXR_png/CHNCXR_0023_0.png', './LungSegmentation/CXR_png/CHNCXR_0033_0.png', './LungSegmentation/CXR_png/CHNCXR_0045_0.png', './LungSegmentation/CXR_png/CHNCXR_0061_0.png', './LungSegmentation/CXR_png/CHNCXR_0112_0.png']\n",
            "['./LungSegmentation/masks/CHNCXR_0023_0.png', './LungSegmentation/masks/CHNCXR_0033_0.png', './LungSegmentation/masks/CHNCXR_0045_0.png', './LungSegmentation/masks/CHNCXR_0061_0.png', './LungSegmentation/masks/CHNCXR_0112_0.png']\n"
          ]
        }
      ]
    },
    {
      "cell_type": "code",
      "source": [],
      "metadata": {
        "id": "VGyhlKDBxQtl"
      },
      "execution_count": null,
      "outputs": []
    },
    {
      "cell_type": "code",
      "source": [],
      "metadata": {
        "id": "rp0eqjt0riUZ"
      },
      "execution_count": null,
      "outputs": []
    },
    {
      "cell_type": "code",
      "source": [
        "\n",
        "# Function to read an image file and returns a preprocessed image tensor.\n",
        "# The mask argument is set to False by default, indicating that it is an image file, not a mask file.\n",
        "from tensorflow import image as tf_image\n",
        "from tensorflow import io as tf_io\n",
        "\n",
        "def read_image(image_path, mask = False):  #Pre-processing Images\n",
        "\n",
        "    image = tf_io.read_file(image_path)\n",
        "    if mask:\n",
        "        image = tf_image.decode_png(image, channels=1)\n",
        "        image.set_shape([None, None, 1])\n",
        "        image = tf_image.resize(images=image, size=[IMAGE_SIZE, IMAGE_SIZE])\n",
        "    else:\n",
        "        image = tf_image.decode_png(image, channels=3)\n",
        "        image.set_shape([None, None, 3])\n",
        "        image = tf_image.resize(images=image, size=[IMAGE_SIZE, IMAGE_SIZE])\n",
        "\n",
        "    # Normalize pixel values to [0, 1]\n",
        "    image = tf.cast(image, tf.float32) / 255.0\n",
        "\n",
        "    return image"
      ],
      "metadata": {
        "id": "VprZ9E7gDN2P"
      },
      "execution_count": 14,
      "outputs": []
    },
    {
      "cell_type": "markdown",
      "source": [
        "Create a **load_data** function that takes in two arguments, **image_list** and **mask_list**, which are lists of file paths to the images and corresponding masks, respectively. It then reads in the image and mask using the **read_image** function defined earlier. The function returns a tuple of **image** and **mask**."
      ],
      "metadata": {
        "id": "b7MxNDd33VDi"
      }
    },
    {
      "cell_type": "code",
      "source": [
        "def load_data(image_path, mask_path):\n",
        "    image = read_image(image_path)\n",
        "    mask = read_image(mask_path, mask=True)\n",
        "    return image, mask\n",
        "\n",
        "#val_dataset = tf.data.Dataset.from_tensor_slices((val_images, val_masks))\n",
        "#val_dataset = val_dataset.map(lambda x, y: (read_image(x), read_image(y, mask = True)))\n",
        "#test_dataset = tf.data.Dataset.from_tensor_slices((test_images, test_masks))\n",
        "#test_dataset = test_dataset.map(lambda x, y: (read_image(x), read_mask(y, mask = True)))"
      ],
      "metadata": {
        "id": "1c0ahnXm3SKL"
      },
      "execution_count": 12,
      "outputs": []
    },
    {
      "cell_type": "markdown",
      "source": [
        "Create a **data_generator** function that takes in **image_list** and **mask_list** as arguments.\n",
        "\n",
        "The function should:\n",
        "- create a **tf.data.Dataset** object from the input data\n",
        "- map the **load_data** function to each element in the dataset\n",
        "- convert the dataset into batches of size **BATCH_SIZE**, drop any incomplete batch at the end of the dataset\n",
        "- return the resulting dataset"
      ],
      "metadata": {
        "id": "RKh_mhVP3VdV"
      }
    },
    {
      "cell_type": "code",
      "source": [
        "# Generate train and validation set\n",
        "\n",
        "def data_generator(image_list, mask_list):\n",
        "    # Create a dataset from image and mask lists\n",
        "    dataset = tf.data.Dataset.from_tensor_slices((image_list, mask_list))\n",
        "    dataset = dataset.map(load_data)\n",
        "    #Batch the dataset and drop any incomplete batch\n",
        "    dataset = dataset.batch(BATCH_SIZE, drop_remainder=True)\n",
        "\n",
        "    return dataset\n",
        "\n",
        "train_dataset = data_generator(sampled_train_images, sampled_train_masks)\n",
        "train_dataset = train_dataset.shuffle(buffer_size=len(sampled_train_images))\n",
        "val_dataset = data_generator(sampled_val_images, sampled_val_masks)\n",
        "test_dataset = data_generator(sampled_test_images, sampled_test_masks)\n",
        "\n",
        "print('Train  Dataset: ', train_dataset)\n",
        "print('Val  Dataset: ',  val_dataset)\n",
        "\n",
        "# Example usage:\n",
        "for batch in train_dataset.take(2):\n",
        "    images_batch, masks_batch = batch\n",
        "    print(images_batch.shape)  # Shape should be (batch_size, IMAGE_SIZE, IMAGE_SIZE, 3)\n",
        "    print(masks_batch.shape)\n"
      ],
      "metadata": {
        "id": "7-4Z2Vgx3ULA",
        "colab": {
          "base_uri": "https://localhost:8080/"
        },
        "outputId": "e304ebde-6fa0-497e-b059-ff4dd2700f98"
      },
      "execution_count": 15,
      "outputs": [
        {
          "output_type": "stream",
          "name": "stdout",
          "text": [
            "Train  Dataset:  <_ShuffleDataset element_spec=(TensorSpec(shape=(4, 512, 512, 3), dtype=tf.float32, name=None), TensorSpec(shape=(4, 512, 512, 1), dtype=tf.float32, name=None))>\n",
            "Val  Dataset:  <_BatchDataset element_spec=(TensorSpec(shape=(4, 512, 512, 3), dtype=tf.float32, name=None), TensorSpec(shape=(4, 512, 512, 1), dtype=tf.float32, name=None))>\n",
            "(4, 512, 512, 3)\n",
            "(4, 512, 512, 1)\n",
            "(4, 512, 512, 3)\n",
            "(4, 512, 512, 1)\n"
          ]
        }
      ]
    },
    {
      "cell_type": "markdown",
      "source": [
        "Check the total images for train and validation."
      ],
      "metadata": {
        "id": "dEqbkpyw2TUW"
      }
    },
    {
      "cell_type": "code",
      "source": [
        "# YOUR CODE HERE\n",
        "print('Total no images in Train set: ',len(sampled_train_images))\n",
        "print('Total no images in Val set: ',len(sampled_val_images))"
      ],
      "metadata": {
        "id": "vBr67cusqgfu",
        "colab": {
          "base_uri": "https://localhost:8080/"
        },
        "outputId": "173746a1-f1ee-48b8-bdde-a7b2bf758eab"
      },
      "execution_count": null,
      "outputs": [
        {
          "output_type": "stream",
          "name": "stdout",
          "text": [
            "Total no images in Train set:  562\n",
            "Total no images in Val set:  71\n"
          ]
        }
      ]
    },
    {
      "cell_type": "markdown",
      "source": [
        "Check the number of batches formed in train and validation set.\n"
      ],
      "metadata": {
        "id": "n4g4SWTf2doR"
      }
    },
    {
      "cell_type": "code",
      "source": [
        "# YOUR CODE HERE\n",
        "print('Total no images in Train batches: ',int(len(sampled_train_images)/BATCH_SIZE))\n",
        "print('Total no images in Val Batches: ',int(len(sampled_val_images)/BATCH_SIZE))\n"
      ],
      "metadata": {
        "id": "yVWuKj1SpsO9",
        "colab": {
          "base_uri": "https://localhost:8080/"
        },
        "outputId": "25943317-793c-4a05-cc63-9bbb7da613c6"
      },
      "execution_count": null,
      "outputs": [
        {
          "output_type": "stream",
          "name": "stdout",
          "text": [
            "Total no images in Train batches:  140\n",
            "Total no images in Val Batches:  17\n"
          ]
        }
      ]
    },
    {
      "cell_type": "markdown",
      "source": [
        "Now, we have created our TensorFlow Dataset. Further, let us try to understand the DeepLabV3+ model."
      ],
      "metadata": {
        "id": "od4kRMIt4bBm"
      }
    },
    {
      "cell_type": "markdown",
      "source": [
        "### **PART-B**"
      ],
      "metadata": {
        "id": "3QD5CLTxM6XN"
      }
    },
    {
      "cell_type": "markdown",
      "source": [
        "### Building the DeepLabV3+ model"
      ],
      "metadata": {
        "id": "rb9boz_8rA2e"
      }
    },
    {
      "cell_type": "markdown",
      "metadata": {
        "id": "gEPE701wIRKX"
      },
      "source": [
        "Downsampling is widely adopted in deep convolutional neural networks (CNN) for reducing memory consumption while preserving the transformation invariance to some degree.\n",
        "\n",
        "Multiple downsampling of a CNN will lead the feature map resolution to become smaller, resulting in lower prediction accuracy and loss of boundary information in semantic segmentation.\n",
        "\n",
        "DeepLabv3+ helps in solving these issues by including **atrous convolutions**. They aggregate context around a feature which helps in segmenting it better.\n",
        "\n",
        "<br>\n",
        "\n",
        "#### **Atrous Convolution/Dilated Convolution**\n",
        "\n",
        "It is a tool for refining the effective field of view of the convolution. It modifies the field of view using a parameter termed ***atrous rate*** or ***dilation rate***.\n",
        "\n",
        "With dilated convolution, as we go deeper in the network, we can keep the stride constant but with larger field-of-view without increasing the number of parameters or the amount of computation. It also enables larger output feature maps, which is useful for semantic segmentation.\n",
        "\n",
        "In the below figure, Atrous/Dilated Convolution has wider field of view with same number of parameters as Normal convolution.\n",
        "\n",
        "<br>\n",
        "<img src=\"https://cdn.iisc.talentsprint.com/AIandMLOps/Images/Dilated_Conv.jpg\" width=500px>\n",
        "<br><br>\n",
        "\n",
        "\n",
        "\n",
        "#### **DeepLabv3+**\n",
        "\n",
        "Earlier version, DeepLabv3 has a problem of consuming too much time to process high-resolution images. DeepLabv3+ is a semantic segmentation architecture that improves upon DeepLabv3 with several improvements, such as adding an effective decoder module to refine the segmentation results.\n",
        "\n",
        "The below figure shows the typical architecture of DeepLabv3+. The encoder module processes multiscale contextual information by applying dilated/atrous convolution at multiple scales, while the decoder module refines the segmentation results along object boundaries.\n",
        "\n",
        "<br>\n",
        "<img src=\"https://cdn.iisc.talentsprint.com/AIandMLOps/Images/deeplabv3_plus_model.png\" width=1000px>\n",
        "<br><br>\n",
        "\n",
        "Deeplabv3+ employs Aligned Xception network as its main feature extractor (encoder), although with substantial modifications. Depth-wise separable convolution replaces all max pooling procedures.\n",
        "\n",
        "In Model Playground, we can select feature extraction (encoding) network to use as either **Resnet** or EfficientNet.\n",
        "\n",
        "The reason for using **Dilated Spatial Pyramid Pooling** is that it was shown that as the sampling rate becomes larger, the number of valid filter weights (i.e., weights that are applied to the valid feature region, instead of padded zeros) becomes smaller.\n"
      ]
    },
    {
      "cell_type": "markdown",
      "source": [
        "### Create the model (5 points)\n",
        "First, create different functions  to implement DeepLabV3+ architecture.\n",
        "\n"
      ],
      "metadata": {
        "id": "8-D80Tn5Vb8I"
      }
    },
    {
      "cell_type": "markdown",
      "source": [
        "Create a function, **convolution_block()**, to add a convolution layer, a BatchNormalization layer, and apply ReLu activation in one go."
      ],
      "metadata": {
        "id": "51JFQYafBWKV"
      }
    },
    {
      "cell_type": "code",
      "source": [
        "# YOUR CODE HERE"
      ],
      "metadata": {
        "id": "swj5dBq3Nuhd"
      },
      "execution_count": null,
      "outputs": []
    },
    {
      "cell_type": "markdown",
      "source": [
        "Create another function to perform **Dilated Spatial Pyramid Pooling**. Use above function to add different convolution blocks."
      ],
      "metadata": {
        "id": "oZ97G7zKDEwM"
      }
    },
    {
      "cell_type": "code",
      "execution_count": null,
      "metadata": {
        "id": "4ak0-MaLIRKX"
      },
      "outputs": [],
      "source": [
        "# YOUR CODE HERE"
      ]
    },
    {
      "cell_type": "markdown",
      "metadata": {
        "id": "ISzIfZnCIRKY"
      },
      "source": [
        "The encoder features are first bilinearly upsampled by a factor 4, and then concatenated with the corresponding low-level features from the network backbone that have the same spatial resolution. Here, we use a **ResNet50** pretrained on ImageNet as the backbone model, and we use\n",
        "the low-level features from the `conv4_block6_2_relu` block of the backbone.\n",
        "\n",
        "##### Exploring ResNet-50 architecture before using it."
      ]
    },
    {
      "cell_type": "code",
      "source": [
        "res_input = keras.Input(shape=(128, 128, 3))\n",
        "resnet50 = keras.applications.ResNet50(weights=\"imagenet\", include_top=False, input_tensor = res_input)\n",
        "\n",
        "# Layers present in ResNet-50 network\n",
        "resnet50.summary()"
      ],
      "metadata": {
        "id": "drTp8R3jJ8l5"
      },
      "execution_count": null,
      "outputs": []
    },
    {
      "cell_type": "markdown",
      "source": [
        "From the above layers,\n",
        "\n",
        "- Use the low-level features from the `conv2_block3_2_relu` layer of the ResNet-50 network to fead in Decoder.\n",
        "\n",
        "- Use the features from the `conv4_block6_2_relu` layer of the ResNet-50 to fead in Dilated Spatial Pyramid Pooling module."
      ],
      "metadata": {
        "id": "pkc9lfo1KCmx"
      }
    },
    {
      "cell_type": "markdown",
      "source": [
        "#### Create Encoder\n",
        "Create a function to implement the architecture for Encoder block. Use **ResNet50** pretrained on ImageNet as the backbone network. Use the features from the **conv4_block6_2_relu** layer of the backbone to fead in Dilated Spatial Pyramid Pooling module. Then return the backbone network along with encoder output."
      ],
      "metadata": {
        "id": "O3FUKLkfKleN"
      }
    },
    {
      "cell_type": "code",
      "source": [
        "# YOUR CODE HERE"
      ],
      "metadata": {
        "id": "F55hQulMN85C"
      },
      "execution_count": null,
      "outputs": []
    },
    {
      "cell_type": "markdown",
      "source": [
        "#### Create Decoder\n",
        "\n",
        "Create a function to implement the architecture for Decoder block. The encoder features are first bilinearly upsampled by a factor 4, and then concatenated with the corresponding low-level features (the **conv2_block3_2_relu** layer) from the network backbone that have the same spatial resolution."
      ],
      "metadata": {
        "id": "3Tr-1r0iKpSe"
      }
    },
    {
      "cell_type": "code",
      "execution_count": null,
      "metadata": {
        "id": "3WPwmoG9IRKY"
      },
      "outputs": [],
      "source": [
        "# YOUR CODE HERE"
      ]
    },
    {
      "cell_type": "markdown",
      "source": [
        "#### Building full architecture of the Model\n",
        "\n",
        "Write a function that combines the encoder and decoder functions defined above to create & implement a complete  DeepLabV3+ architecture."
      ],
      "metadata": {
        "id": "5_Q4iEL_LAS_"
      }
    },
    {
      "cell_type": "code",
      "execution_count": null,
      "metadata": {
        "id": "KKrCbtbTLt4V"
      },
      "outputs": [],
      "source": [
        "# YOUR CODE HERE"
      ]
    },
    {
      "cell_type": "code",
      "source": [
        "# Create model"
      ],
      "metadata": {
        "id": "tgxmWewiL_3X"
      },
      "execution_count": null,
      "outputs": []
    },
    {
      "cell_type": "markdown",
      "metadata": {
        "id": "t-wTaL2GIRKZ"
      },
      "source": [
        "### Training (1 point)\n",
        "\n",
        "We train the model using sparse categorical crossentropy as the loss function, and\n",
        "Adam as the optimizer."
      ]
    },
    {
      "cell_type": "markdown",
      "source": [
        "##### Compile model\n"
      ],
      "metadata": {
        "id": "lzc1PwXGVxGA"
      }
    },
    {
      "cell_type": "code",
      "source": [
        "# YOUR CODE HERE"
      ],
      "metadata": {
        "id": "lHOIcWvJJipS"
      },
      "execution_count": null,
      "outputs": []
    },
    {
      "cell_type": "markdown",
      "source": [
        "##### Model Training"
      ],
      "metadata": {
        "id": "Lfxei5y7Vpbi"
      }
    },
    {
      "cell_type": "code",
      "execution_count": null,
      "metadata": {
        "id": "4X5RJA-4IRKZ"
      },
      "outputs": [],
      "source": [
        "# YOUR CODE HERE"
      ]
    },
    {
      "cell_type": "markdown",
      "source": [
        "We can plot the training and validation loss to see how the training went. This should show generally decreasing values per epoch."
      ],
      "metadata": {
        "id": "EFI7dNzjls1n"
      }
    },
    {
      "cell_type": "markdown",
      "source": [
        "#####  Learning curve from model history (1 point)"
      ],
      "metadata": {
        "id": "mZXQrtWilsys"
      }
    },
    {
      "cell_type": "code",
      "source": [
        "# Function to plot learning curves\n",
        "# YOUR CODE HERE"
      ],
      "metadata": {
        "id": "CK39p3vukEUB"
      },
      "execution_count": null,
      "outputs": []
    },
    {
      "cell_type": "code",
      "source": [
        "# Display learning curves\n",
        "# YOUR CODE HERE"
      ],
      "metadata": {
        "id": "wKrXpv_fs5Rj"
      },
      "execution_count": null,
      "outputs": []
    },
    {
      "cell_type": "markdown",
      "source": [
        "### Visualize Predictions (1 points)"
      ],
      "metadata": {
        "id": "xyE-Kbx2MT2-"
      }
    },
    {
      "cell_type": "code",
      "source": [
        "# Inference from model\n",
        "# YOUR CODE HERE"
      ],
      "metadata": {
        "id": "PKjiu5Bih-pk"
      },
      "execution_count": null,
      "outputs": []
    },
    {
      "cell_type": "markdown",
      "source": [
        "#### Plot the predictions"
      ],
      "metadata": {
        "id": "v9_RcKasWLGq"
      }
    },
    {
      "cell_type": "code",
      "source": [
        "# YOUR CODE HERE"
      ],
      "metadata": {
        "id": "VOUW1R60sh76"
      },
      "execution_count": null,
      "outputs": []
    }
  ]
}